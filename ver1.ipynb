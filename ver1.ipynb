{
 "cells": [
  {
   "cell_type": "code",
   "execution_count": 1,
   "metadata": {},
   "outputs": [
    {
     "data": {
      "text/plain": [
       "PJF(\n",
       "  (dropout): Dropout(p=0.4, inplace=False)\n",
       "  (layer_norm): LayerNorm((768,), eps=1e-05, elementwise_affine=True)\n",
       "  (attention_2): MultiheadAttention(\n",
       "    (out_proj): NonDynamicallyQuantizableLinear(in_features=768, out_features=768, bias=True)\n",
       "  )\n",
       "  (atte_reduce): AttentionReduce(\n",
       "    (mlp): Sequential(\n",
       "      (0): Linear(in_features=768, out_features=384, bias=True)\n",
       "      (1): ReLU()\n",
       "      (2): Dropout(p=0.1, inplace=False)\n",
       "      (3): Linear(in_features=384, out_features=1, bias=True)\n",
       "    )\n",
       "  )\n",
       "  (ffn_2): Sequential(\n",
       "    (0): Linear(in_features=768, out_features=1536, bias=True)\n",
       "    (1): ReLU()\n",
       "    (2): Linear(in_features=1536, out_features=4096, bias=True)\n",
       "  )\n",
       ")"
      ]
     },
     "execution_count": 1,
     "metadata": {},
     "output_type": "execute_result"
    }
   ],
   "source": [
    "import torch\n",
    "from ModelAi.projectFeature import PJFTrainModel, PJF\n",
    "import pandas as pd\n",
    "\n",
    "PJF_model = PJF()\n",
    "PJF_model.to(\"cuda\")\n",
    "model = PJFTrainModel(model=PJF_model)\n",
    "model.to(\"cuda\")\n",
    "\n",
    "model.load_state_dict(\n",
    "    torch.load(\n",
    "        f\"D:\\\\AIChallenge\\\\Checkpoints\\\\model_epoch_{2}.pt\",\n",
    "    )\n",
    ")\n",
    "\n",
    "PJF_model = model.model\n",
    "PJF_model.eval()"
   ]
  },
  {
   "cell_type": "code",
   "execution_count": 2,
   "metadata": {},
   "outputs": [
    {
     "name": "stderr",
     "output_type": "stream",
     "text": [
      "d:\\AIChallenge\\venv\\Lib\\site-packages\\transformers\\tokenization_utils_base.py:1602: FutureWarning: `clean_up_tokenization_spaces` was not set. It will be set to `True` by default. This behavior will be deprecated in transformers v4.45, and will be then set to `False` by default. For more details check this issue: https://github.com/huggingface/transformers/issues/31884\n",
      "  warnings.warn(\n",
      "d:\\AIChallenge\\venv\\Lib\\site-packages\\torch\\_utils.py:831: UserWarning: TypedStorage is deprecated. It will be removed in the future and UntypedStorage will be the only storage class. This should only matter to you if you are using storages directly.  To access UntypedStorage directly, use tensor.untyped_storage() instead of tensor.storage()\n",
      "  return self.fget.__get__(instance, owner)()\n"
     ]
    }
   ],
   "source": [
    "import torch\n",
    "from transformers import AutoModel, AutoTokenizer\n",
    "from tqdm import tqdm\n",
    "\n",
    "# BARTpho-syllable\n",
    "# syllable_tokenizer = AutoTokenizer.from_pretrained(\"vinai/bartpho-syllable\")\n",
    "# bartpho_syllable = AutoModel.from_pretrained(\"vinai/bartpho-syllable\")\n",
    "# TXT = \"Chúng tôi là những nghiên cứu viên.\"\n",
    "# input_ids = syllable_tokenizer(TXT, return_tensors=\"pt\")[\"input_ids\"]\n",
    "# features = bartpho_syllable(input_ids)\n",
    "\n",
    "# BARTpho-word\n",
    "word_tokenizer = AutoTokenizer.from_pretrained(\"vinai/bartpho-word-base\")\n",
    "bartpho_word = AutoModel.from_pretrained(\"vinai/bartpho-word-base\")\n",
    "# to cuda\n",
    "bartpho_word.to(\"cuda\")\n",
    "bartpho_word.eval()\n",
    "for param in bartpho_word.parameters():\n",
    "    param.requires_grad = False\n",
    "# TXT = \"Chúng_tôi là những nghiên_cứu_viên .\"\n",
    "# input_ids = word_tokenizer(TXT, return_tensors=\"pt\")[\"input_ids\"]\n",
    "# features = bartpho_word(input_ids.to(\"cuda\"))\n",
    "\n",
    "# input_ids = word_tokenizer.encode(TXT, return_tensors=\"pt\").to(\"cuda\")\n",
    "# print(input_ids)\n",
    "# # check if input_ids is in cuda\n",
    "# features = bartpho_word(input_ids).last_hidden_state[0]"
   ]
  },
  {
   "cell_type": "code",
   "execution_count": 3,
   "metadata": {},
   "outputs": [
    {
     "name": "stdout",
     "output_type": "stream",
     "text": [
      "Chúng_tôi là những nghiên_cứu_viên . \n"
     ]
    }
   ],
   "source": [
    "# Word segmentation\n",
    "import py_vncorenlp\n",
    "\n",
    "# py_vncorenlp.download_model(save_dir=r\"D:\\VQA\\Notebook\\VnCoreNLP\")\n",
    "\n",
    "# Load the word and sentence segmentation component\n",
    "rdrsegmenter = py_vncorenlp.VnCoreNLP(\n",
    "    annotators=[\"wseg\"],\n",
    "    save_dir=r\"D:\\AIChallenge\\VnCoreNLP\",\n",
    ")\n",
    "\n",
    "# change dir to C:\\Users\\Asus.LAPTOP-8EU9PHJL.000\\Desktop\\VQA\\Notebook\n",
    "import os\n",
    "\n",
    "os.chdir(r\"D:\\AIChallenge\")\n",
    "\n",
    "\n",
    "def Word_Segmentation(text):\n",
    "    output = rdrsegmenter.word_segment(text)\n",
    "    if len(output) > 0:\n",
    "        # join all words in the list\n",
    "        res = \"\"\n",
    "        for i in output:\n",
    "            res += i + \" \"\n",
    "        return res\n",
    "    else:\n",
    "        output = \"\"\n",
    "    return output\n",
    "\n",
    "\n",
    "print(Word_Segmentation(\"Chúng tôi là những nghiên cứu viên.\"))"
   ]
  },
  {
   "cell_type": "code",
   "execution_count": 4,
   "metadata": {},
   "outputs": [],
   "source": [
    "import os\n",
    "from tqdm import tqdm\n",
    "import torch\n",
    "\n",
    "def scan_file_path_in_folder(directory):\n",
    "    lst = []\n",
    "    for root, dirs, files in os.walk(directory):\n",
    "        # check files in the directory\n",
    "        for file in files:\n",
    "            lst.append(os.path.join(root, file))\n",
    "    return lst\n",
    "\n",
    "\n",
    "def scan_file_name_in_folder(directory):\n",
    "    lst = []\n",
    "    for root, dirs, files in os.walk(directory):\n",
    "        # check files in the directory\n",
    "        for file in files:\n",
    "            # remove the extension\n",
    "            file_name = os.path.splitext(file)[0]\n",
    "            lst.append(file_name)\n",
    "    return lst"
   ]
  },
  {
   "cell_type": "code",
   "execution_count": 5,
   "metadata": {},
   "outputs": [],
   "source": [
    "# audio\n",
    "audio_path = \"Data\\\\PreporcessData\\\\Projection\\\\Audio_text_bartpho\"\n",
    "audio_path_lst = scan_file_path_in_folder(audio_path)\n",
    "audio_name_lst = scan_file_name_in_folder(audio_path)\n",
    "audio_path_dict = dict(zip(audio_name_lst, audio_path_lst))\n",
    "# audio key\n",
    "audio_key_path = \"Data\\\\PreporcessData\\\\Projection\\\\Audio_key_text_bartpho\"\n",
    "audio_key_path_lst = scan_file_path_in_folder(audio_key_path)\n",
    "audio_key_name_lst = scan_file_name_in_folder(audio_key_path)\n",
    "audio_key_path_dict = dict(zip(audio_key_name_lst, audio_key_path_lst))\n",
    "# key image caption\n",
    "key_image_caption_path = (\n",
    "    \"Data\\\\PreporcessData\\\\Projection\\\\keyframes_ImageCaption_bartpho\"\n",
    ")\n",
    "key_image_caption_path_lst = scan_file_path_in_folder(key_image_caption_path)\n",
    "key_image_caption_name_lst = scan_file_name_in_folder(key_image_caption_path)\n",
    "key_image_caption_path_dict = dict(\n",
    "    zip(key_image_caption_name_lst, key_image_caption_path_lst)\n",
    ")"
   ]
  },
  {
   "cell_type": "code",
   "execution_count": 6,
   "metadata": {},
   "outputs": [
    {
     "name": "stdout",
     "output_type": "stream",
     "text": [
      "363 106589 106589\n",
      "363\n",
      "['L01_V001_001', 'L01_V001_002', 'L01_V001_003', 'L01_V001_004', 'L01_V001_005', 'L01_V001_006', 'L01_V001_007', 'L01_V001_008', 'L01_V001_009', 'L01_V001_010', 'L01_V001_011', 'L01_V001_012', 'L01_V001_013', 'L01_V001_014', 'L01_V001_015', 'L01_V001_016', 'L01_V001_017', 'L01_V001_018', 'L01_V001_019', 'L01_V001_020', 'L01_V001_021', 'L01_V001_022', 'L01_V001_023', 'L01_V001_024', 'L01_V001_025', 'L01_V001_026', 'L01_V001_027', 'L01_V001_028', 'L01_V001_029', 'L01_V001_030', 'L01_V001_031', 'L01_V001_032', 'L01_V001_033', 'L01_V001_034', 'L01_V001_035', 'L01_V001_036', 'L01_V001_037', 'L01_V001_038', 'L01_V001_039', 'L01_V001_040', 'L01_V001_041', 'L01_V001_042', 'L01_V001_043', 'L01_V001_044', 'L01_V001_045', 'L01_V001_046', 'L01_V001_047', 'L01_V001_048', 'L01_V001_049', 'L01_V001_050', 'L01_V001_051', 'L01_V001_052', 'L01_V001_053', 'L01_V001_054', 'L01_V001_055', 'L01_V001_056', 'L01_V001_057', 'L01_V001_058', 'L01_V001_059', 'L01_V001_060', 'L01_V001_061', 'L01_V001_062', 'L01_V001_063', 'L01_V001_064', 'L01_V001_065', 'L01_V001_066', 'L01_V001_067', 'L01_V001_068', 'L01_V001_069', 'L01_V001_070', 'L01_V001_071', 'L01_V001_072', 'L01_V001_073', 'L01_V001_074', 'L01_V001_075', 'L01_V001_076', 'L01_V001_077', 'L01_V001_078', 'L01_V001_079', 'L01_V001_080', 'L01_V001_081', 'L01_V001_082', 'L01_V001_083', 'L01_V001_084', 'L01_V001_085', 'L01_V001_086', 'L01_V001_087', 'L01_V001_088', 'L01_V001_089', 'L01_V001_090', 'L01_V001_091', 'L01_V001_092', 'L01_V001_093', 'L01_V001_094', 'L01_V001_095', 'L01_V001_096', 'L01_V001_097', 'L01_V001_098', 'L01_V001_099', 'L01_V001_100', 'L01_V001_101', 'L01_V001_102', 'L01_V001_103', 'L01_V001_104', 'L01_V001_105', 'L01_V001_106', 'L01_V001_107', 'L01_V001_108', 'L01_V001_109', 'L01_V001_110', 'L01_V001_111', 'L01_V001_112', 'L01_V001_113', 'L01_V001_114', 'L01_V001_115', 'L01_V001_116', 'L01_V001_117', 'L01_V001_118', 'L01_V001_119', 'L01_V001_120', 'L01_V001_121', 'L01_V001_122', 'L01_V001_123', 'L01_V001_124', 'L01_V001_125', 'L01_V001_126', 'L01_V001_127', 'L01_V001_128', 'L01_V001_129', 'L01_V001_130', 'L01_V001_131', 'L01_V001_132', 'L01_V001_133', 'L01_V001_134', 'L01_V001_135', 'L01_V001_136', 'L01_V001_137', 'L01_V001_138', 'L01_V001_139', 'L01_V001_140', 'L01_V001_141', 'L01_V001_142', 'L01_V001_143', 'L01_V001_144', 'L01_V001_145', 'L01_V001_146', 'L01_V001_147', 'L01_V001_148', 'L01_V001_149', 'L01_V001_150', 'L01_V001_151', 'L01_V001_152', 'L01_V001_153', 'L01_V001_154', 'L01_V001_155', 'L01_V001_156', 'L01_V001_157', 'L01_V001_158', 'L01_V001_159', 'L01_V001_160', 'L01_V001_161', 'L01_V001_162', 'L01_V001_163', 'L01_V001_164', 'L01_V001_165', 'L01_V001_166', 'L01_V001_167', 'L01_V001_168', 'L01_V001_169', 'L01_V001_170', 'L01_V001_171', 'L01_V001_172', 'L01_V001_173', 'L01_V001_174', 'L01_V001_175', 'L01_V001_176', 'L01_V001_177', 'L01_V001_178', 'L01_V001_179', 'L01_V001_180', 'L01_V001_181', 'L01_V001_182', 'L01_V001_183', 'L01_V001_184', 'L01_V001_185', 'L01_V001_186', 'L01_V001_187', 'L01_V001_188', 'L01_V001_189', 'L01_V001_190', 'L01_V001_191', 'L01_V001_192', 'L01_V001_193', 'L01_V001_194', 'L01_V001_195', 'L01_V001_196', 'L01_V001_197', 'L01_V001_198', 'L01_V001_199', 'L01_V001_200', 'L01_V001_201', 'L01_V001_202', 'L01_V001_203', 'L01_V001_204', 'L01_V001_205', 'L01_V001_206', 'L01_V001_207', 'L01_V001_208', 'L01_V001_209', 'L01_V001_210', 'L01_V001_211', 'L01_V001_212', 'L01_V001_213', 'L01_V001_214', 'L01_V001_215', 'L01_V001_216', 'L01_V001_217', 'L01_V001_218', 'L01_V001_219', 'L01_V001_220', 'L01_V001_221', 'L01_V001_222', 'L01_V001_223', 'L01_V001_224', 'L01_V001_225', 'L01_V001_226', 'L01_V001_227', 'L01_V001_228', 'L01_V001_229', 'L01_V001_230', 'L01_V001_231', 'L01_V001_232', 'L01_V001_233', 'L01_V001_234', 'L01_V001_235', 'L01_V001_236', 'L01_V001_237', 'L01_V001_238', 'L01_V001_239', 'L01_V001_240', 'L01_V001_241', 'L01_V001_242', 'L01_V001_243', 'L01_V001_244', 'L01_V001_245', 'L01_V001_246', 'L01_V001_247', 'L01_V001_248', 'L01_V001_249', 'L01_V001_250', 'L01_V001_251', 'L01_V001_252', 'L01_V001_253', 'L01_V001_254', 'L01_V001_255', 'L01_V001_256', 'L01_V001_257', 'L01_V001_258', 'L01_V001_259', 'L01_V001_260', 'L01_V001_261', 'L01_V001_262', 'L01_V001_263', 'L01_V001_264', 'L01_V001_265', 'L01_V001_266', 'L01_V001_267', 'L01_V001_268', 'L01_V001_269', 'L01_V001_270', 'L01_V001_271', 'L01_V001_272']\n"
     ]
    }
   ],
   "source": [
    "print(len(audio_path_dict), len(audio_key_path_dict), len(key_image_caption_path_dict))\n",
    "\n",
    "# map\n",
    "video_frame_lst = {}\n",
    "for key in audio_name_lst:\n",
    "    for key_key in audio_key_name_lst:\n",
    "        if key in key_key:\n",
    "            if key in video_frame_lst:\n",
    "                video_frame_lst[key].append(key_key)\n",
    "            else:\n",
    "                video_frame_lst[key] = [key_key]\n",
    "print(len(video_frame_lst))\n",
    "print(video_frame_lst[\"L01_V001\"])"
   ]
  },
  {
   "cell_type": "code",
   "execution_count": 7,
   "metadata": {},
   "outputs": [
    {
     "name": "stdout",
     "output_type": "stream",
     "text": [
      "{'L01_V001': 'Data\\\\PreporcessData\\\\Projection\\\\Audio_text_bartpho\\\\L01_V001.pt', 'L01_V002': 'Data\\\\PreporcessData\\\\Projection\\\\Audio_text_bartpho\\\\L01_V002.pt', 'L01_V003': 'Data\\\\PreporcessData\\\\Projection\\\\Audio_text_bartpho\\\\L01_V003.pt', 'L01_V004': 'Data\\\\PreporcessData\\\\Projection\\\\Audio_text_bartpho\\\\L01_V004.pt', 'L01_V005': 'Data\\\\PreporcessData\\\\Projection\\\\Audio_text_bartpho\\\\L01_V005.pt'}\n",
      "{'L01_V001_001': 'Data\\\\PreporcessData\\\\Projection\\\\Audio_key_text_bartpho\\\\L01_V001_001.pt', 'L01_V001_002': 'Data\\\\PreporcessData\\\\Projection\\\\Audio_key_text_bartpho\\\\L01_V001_002.pt', 'L01_V001_003': 'Data\\\\PreporcessData\\\\Projection\\\\Audio_key_text_bartpho\\\\L01_V001_003.pt', 'L01_V001_004': 'Data\\\\PreporcessData\\\\Projection\\\\Audio_key_text_bartpho\\\\L01_V001_004.pt', 'L01_V001_005': 'Data\\\\PreporcessData\\\\Projection\\\\Audio_key_text_bartpho\\\\L01_V001_005.pt'}\n",
      "{'L01_V001_001': 'Data\\\\PreporcessData\\\\Projection\\\\keyframes_ImageCaption_bartpho\\\\L01_V001_001.pt', 'L01_V001_002': 'Data\\\\PreporcessData\\\\Projection\\\\keyframes_ImageCaption_bartpho\\\\L01_V001_002.pt', 'L01_V001_003': 'Data\\\\PreporcessData\\\\Projection\\\\keyframes_ImageCaption_bartpho\\\\L01_V001_003.pt', 'L01_V001_004': 'Data\\\\PreporcessData\\\\Projection\\\\keyframes_ImageCaption_bartpho\\\\L01_V001_004.pt', 'L01_V001_005': 'Data\\\\PreporcessData\\\\Projection\\\\keyframes_ImageCaption_bartpho\\\\L01_V001_005.pt'}\n"
     ]
    }
   ],
   "source": [
    "# print first 5 key, value in the dictionary\n",
    "print({k: audio_path_dict[k] for k in list(audio_path_dict)[:5]})\n",
    "print({k: audio_key_path_dict[k] for k in list(audio_key_path_dict)[:5]})\n",
    "print(\n",
    "    {k: key_image_caption_path_dict[k] for k in list(key_image_caption_path_dict)[:5]}\n",
    ")"
   ]
  },
  {
   "cell_type": "code",
   "execution_count": 8,
   "metadata": {},
   "outputs": [
    {
     "name": "stderr",
     "output_type": "stream",
     "text": [
      "100%|██████████| 363/363 [00:00<00:00, 2550.28it/s]\n",
      "100%|██████████| 106589/106589 [00:49<00:00, 2160.79it/s]\n",
      "100%|██████████| 106589/106589 [00:50<00:00, 2090.19it/s]\n"
     ]
    }
   ],
   "source": [
    "import torch\n",
    "import concurrent.futures\n",
    "from tqdm import tqdm\n",
    "\n",
    "\n",
    "def process_paths(data_dict):\n",
    "    processed_dict = {}\n",
    "    for key, path in data_dict.items():\n",
    "        # to GPU\n",
    "        tensor = torch.load(path, map_location=\"cuda\")\n",
    "        processed_dict[key] = {\n",
    "            # \"path\": path,\n",
    "            \"tensor\": tensor,\n",
    "            # \"square_sum_tensor\": torch.sum(tensor**2),\n",
    "        }\n",
    "    return processed_dict\n",
    "\n",
    "\n",
    "def load_data_parallel(data_dict):\n",
    "    processed_dict = {}\n",
    "    with concurrent.futures.ThreadPoolExecutor() as executor:\n",
    "        futures = {\n",
    "            executor.submit(process_paths, {key: path}): key\n",
    "            for key, path in data_dict.items()\n",
    "        }\n",
    "        for future in tqdm(\n",
    "            concurrent.futures.as_completed(futures), total=len(data_dict)\n",
    "        ):\n",
    "            result = future.result()\n",
    "            processed_dict.update(result)\n",
    "    return processed_dict\n",
    "\n",
    "\n",
    "# Load all data in parallel into RAM\n",
    "video_dict = load_data_parallel(audio_path_dict)\n",
    "audio_key_dict = load_data_parallel(audio_key_path_dict)\n",
    "key_frame_dict = load_data_parallel(key_image_caption_path_dict)"
   ]
  },
  {
   "cell_type": "code",
   "execution_count": 9,
   "metadata": {},
   "outputs": [
    {
     "name": "stdout",
     "output_type": "stream",
     "text": [
      "['pack1-groupA\\\\query-p1-1-qa.txt', 'pack1-groupA\\\\query-p1-10-kis.txt', 'pack1-groupA\\\\query-p1-11-kis.txt', 'pack1-groupA\\\\query-p1-12-kis.txt', 'pack1-groupA\\\\query-p1-13-kis.txt', 'pack1-groupA\\\\query-p1-14-kis.txt', 'pack1-groupA\\\\query-p1-15-kis.txt', 'pack1-groupA\\\\query-p1-16-kis.txt', 'pack1-groupA\\\\query-p1-17-kis.txt', 'pack1-groupA\\\\query-p1-18-kis.txt', 'pack1-groupA\\\\query-p1-19-kis.txt', 'pack1-groupA\\\\query-p1-2-qa.txt', 'pack1-groupA\\\\query-p1-20-kis.txt', 'pack1-groupA\\\\query-p1-21-kis.txt', 'pack1-groupA\\\\query-p1-22-kis.txt', 'pack1-groupA\\\\query-p1-23-kis.txt', 'pack1-groupA\\\\query-p1-24-qa.txt', 'pack1-groupA\\\\query-p1-25-qa.txt', 'pack1-groupA\\\\query-p1-3-qa.txt', 'pack1-groupA\\\\query-p1-4-kis.txt', 'pack1-groupA\\\\query-p1-5-kis.txt', 'pack1-groupA\\\\query-p1-6-kis.txt', 'pack1-groupA\\\\query-p1-7-kis.txt', 'pack1-groupA\\\\query-p1-8-kis.txt', 'pack1-groupA\\\\query-p1-9-kis.txt']\n"
     ]
    }
   ],
   "source": [
    "query_path = \"pack1-groupA\"\n",
    "query_path_lst = scan_file_path_in_folder(query_path)\n",
    "query_path_name_lst = scan_file_name_in_folder(query_path)\n",
    "print(query_path_lst)"
   ]
  },
  {
   "cell_type": "code",
   "execution_count": 10,
   "metadata": {},
   "outputs": [
    {
     "name": "stderr",
     "output_type": "stream",
     "text": [
      "Failed to create new connection using: 5f9cc94976404116a2c3a87dc717f624\n"
     ]
    },
    {
     "ename": "ModuleNotFoundError",
     "evalue": "No module named 'milvus_lite'",
     "output_type": "error",
     "traceback": [
      "\u001b[1;31m---------------------------------------------------------------------------\u001b[0m",
      "\u001b[1;31mModuleNotFoundError\u001b[0m                       Traceback (most recent call last)",
      "    \u001b[1;31m[... skipping hidden 1 frame]\u001b[0m\n",
      "Cell \u001b[1;32mIn[10], line 3\u001b[0m\n\u001b[0;32m      1\u001b[0m \u001b[38;5;28;01mfrom\u001b[39;00m \u001b[38;5;21;01mpymilvus\u001b[39;00m \u001b[38;5;28;01mimport\u001b[39;00m MilvusClient\n\u001b[1;32m----> 3\u001b[0m client \u001b[38;5;241m=\u001b[39m \u001b[43mMilvusClient\u001b[49m\u001b[43m(\u001b[49m\u001b[38;5;124;43m\"\u001b[39;49m\u001b[38;5;124;43mmilvus_demo.db\u001b[39;49m\u001b[38;5;124;43m\"\u001b[39;49m\u001b[43m)\u001b[49m\n",
      "File \u001b[1;32md:\\AIChallenge\\venv\\Lib\\site-packages\\pymilvus\\milvus_client\\milvus_client.py:59\u001b[0m, in \u001b[0;36mMilvusClient.__init__\u001b[1;34m(self, uri, user, password, db_name, token, timeout, **kwargs)\u001b[0m\n\u001b[0;32m     47\u001b[0m \u001b[38;5;250m\u001b[39m\u001b[38;5;124;03m\"\"\"A client for the common Milvus use case.\u001b[39;00m\n\u001b[0;32m     48\u001b[0m \n\u001b[0;32m     49\u001b[0m \u001b[38;5;124;03mThis client attempts to hide away the complexity of using Pymilvus. In a lot ofcases what\u001b[39;00m\n\u001b[1;32m   (...)\u001b[0m\n\u001b[0;32m     57\u001b[0m \u001b[38;5;124;03m        to None.\u001b[39;00m\n\u001b[0;32m     58\u001b[0m \u001b[38;5;124;03m\"\"\"\u001b[39;00m\n\u001b[1;32m---> 59\u001b[0m \u001b[38;5;28mself\u001b[39m\u001b[38;5;241m.\u001b[39m_using \u001b[38;5;241m=\u001b[39m \u001b[38;5;28;43mself\u001b[39;49m\u001b[38;5;241;43m.\u001b[39;49m\u001b[43m_create_connection\u001b[49m\u001b[43m(\u001b[49m\n\u001b[0;32m     60\u001b[0m \u001b[43m    \u001b[49m\u001b[43muri\u001b[49m\u001b[43m,\u001b[49m\u001b[43m \u001b[49m\u001b[43muser\u001b[49m\u001b[43m,\u001b[49m\u001b[43m \u001b[49m\u001b[43mpassword\u001b[49m\u001b[43m,\u001b[49m\u001b[43m \u001b[49m\u001b[43mdb_name\u001b[49m\u001b[43m,\u001b[49m\u001b[43m \u001b[49m\u001b[43mtoken\u001b[49m\u001b[43m,\u001b[49m\u001b[43m \u001b[49m\u001b[43mtimeout\u001b[49m\u001b[38;5;241;43m=\u001b[39;49m\u001b[43mtimeout\u001b[49m\u001b[43m,\u001b[49m\u001b[43m \u001b[49m\u001b[38;5;241;43m*\u001b[39;49m\u001b[38;5;241;43m*\u001b[39;49m\u001b[43mkwargs\u001b[49m\n\u001b[0;32m     61\u001b[0m \u001b[43m\u001b[49m\u001b[43m)\u001b[49m\n\u001b[0;32m     62\u001b[0m \u001b[38;5;28mself\u001b[39m\u001b[38;5;241m.\u001b[39mis_self_hosted \u001b[38;5;241m=\u001b[39m \u001b[38;5;28mbool\u001b[39m(utility\u001b[38;5;241m.\u001b[39mget_server_type(using\u001b[38;5;241m=\u001b[39m\u001b[38;5;28mself\u001b[39m\u001b[38;5;241m.\u001b[39m_using) \u001b[38;5;241m==\u001b[39m \u001b[38;5;124m\"\u001b[39m\u001b[38;5;124mmilvus\u001b[39m\u001b[38;5;124m\"\u001b[39m)\n",
      "File \u001b[1;32md:\\AIChallenge\\venv\\Lib\\site-packages\\pymilvus\\milvus_client\\milvus_client.py:656\u001b[0m, in \u001b[0;36mMilvusClient._create_connection\u001b[1;34m(self, uri, user, password, db_name, token, **kwargs)\u001b[0m\n\u001b[0;32m    655\u001b[0m     logger\u001b[38;5;241m.\u001b[39merror(\u001b[38;5;124m\"\u001b[39m\u001b[38;5;124mFailed to create new connection using: \u001b[39m\u001b[38;5;132;01m%s\u001b[39;00m\u001b[38;5;124m\"\u001b[39m, using)\n\u001b[1;32m--> 656\u001b[0m     \u001b[38;5;28;01mraise\u001b[39;00m ex \u001b[38;5;28;01mfrom\u001b[39;00m \u001b[38;5;21;01mex\u001b[39;00m\n\u001b[0;32m    657\u001b[0m \u001b[38;5;28;01melse\u001b[39;00m:\n",
      "File \u001b[1;32md:\\AIChallenge\\venv\\Lib\\site-packages\\pymilvus\\milvus_client\\milvus_client.py:653\u001b[0m, in \u001b[0;36mMilvusClient._create_connection\u001b[1;34m(self, uri, user, password, db_name, token, **kwargs)\u001b[0m\n\u001b[0;32m    652\u001b[0m \u001b[38;5;28;01mtry\u001b[39;00m:\n\u001b[1;32m--> 653\u001b[0m     \u001b[43mconnections\u001b[49m\u001b[38;5;241;43m.\u001b[39;49m\u001b[43mconnect\u001b[49m\u001b[43m(\u001b[49m\u001b[43musing\u001b[49m\u001b[43m,\u001b[49m\u001b[43m \u001b[49m\u001b[43muser\u001b[49m\u001b[43m,\u001b[49m\u001b[43m \u001b[49m\u001b[43mpassword\u001b[49m\u001b[43m,\u001b[49m\u001b[43m \u001b[49m\u001b[43mdb_name\u001b[49m\u001b[43m,\u001b[49m\u001b[43m \u001b[49m\u001b[43mtoken\u001b[49m\u001b[43m,\u001b[49m\u001b[43m \u001b[49m\u001b[43muri\u001b[49m\u001b[38;5;241;43m=\u001b[39;49m\u001b[43muri\u001b[49m\u001b[43m,\u001b[49m\u001b[43m \u001b[49m\u001b[38;5;241;43m*\u001b[39;49m\u001b[38;5;241;43m*\u001b[39;49m\u001b[43mkwargs\u001b[49m\u001b[43m)\u001b[49m\n\u001b[0;32m    654\u001b[0m \u001b[38;5;28;01mexcept\u001b[39;00m \u001b[38;5;167;01mException\u001b[39;00m \u001b[38;5;28;01mas\u001b[39;00m ex:\n",
      "File \u001b[1;32md:\\AIChallenge\\venv\\Lib\\site-packages\\pymilvus\\orm\\connections.py:379\u001b[0m, in \u001b[0;36mConnections.connect\u001b[1;34m(self, alias, user, password, db_name, token, **kwargs)\u001b[0m\n\u001b[0;32m    375\u001b[0m     \u001b[38;5;28;01mraise\u001b[39;00m ConnectionConfigException(\n\u001b[0;32m    376\u001b[0m         message\u001b[38;5;241m=\u001b[39m\u001b[38;5;124mf\u001b[39m\u001b[38;5;124m\"\u001b[39m\u001b[38;5;124mOpen local milvus failed, dir: \u001b[39m\u001b[38;5;132;01m{\u001b[39;00mparent_path\u001b[38;5;132;01m}\u001b[39;00m\u001b[38;5;124m is not exists\u001b[39m\u001b[38;5;124m\"\u001b[39m\n\u001b[0;32m    377\u001b[0m     )\n\u001b[1;32m--> 379\u001b[0m \u001b[38;5;28;01mfrom\u001b[39;00m \u001b[38;5;21;01mmilvus_lite\u001b[39;00m\u001b[38;5;21;01m.\u001b[39;00m\u001b[38;5;21;01mserver_manager\u001b[39;00m \u001b[38;5;28;01mimport\u001b[39;00m server_manager_instance\n\u001b[0;32m    381\u001b[0m logger\u001b[38;5;241m.\u001b[39minfo(\u001b[38;5;124mf\u001b[39m\u001b[38;5;124m\"\u001b[39m\u001b[38;5;124mPass in the local path \u001b[39m\u001b[38;5;132;01m{\u001b[39;00mkwargs[\u001b[38;5;124m'\u001b[39m\u001b[38;5;124muri\u001b[39m\u001b[38;5;124m'\u001b[39m]\u001b[38;5;132;01m}\u001b[39;00m\u001b[38;5;124m, and run it using milvus-lite\u001b[39m\u001b[38;5;124m\"\u001b[39m)\n",
      "\u001b[1;31mModuleNotFoundError\u001b[0m: No module named 'milvus_lite'",
      "\nThe above exception was the direct cause of the following exception:\n",
      "\u001b[1;31mModuleNotFoundError\u001b[0m                       Traceback (most recent call last)",
      "    \u001b[1;31m[... skipping hidden 1 frame]\u001b[0m\n",
      "Cell \u001b[1;32mIn[10], line 3\u001b[0m\n\u001b[0;32m      1\u001b[0m \u001b[38;5;28;01mfrom\u001b[39;00m \u001b[38;5;21;01mpymilvus\u001b[39;00m \u001b[38;5;28;01mimport\u001b[39;00m MilvusClient\n\u001b[1;32m----> 3\u001b[0m client \u001b[38;5;241m=\u001b[39m \u001b[43mMilvusClient\u001b[49m\u001b[43m(\u001b[49m\u001b[38;5;124;43m\"\u001b[39;49m\u001b[38;5;124;43mmilvus_demo.db\u001b[39;49m\u001b[38;5;124;43m\"\u001b[39;49m\u001b[43m)\u001b[49m\n",
      "File \u001b[1;32md:\\AIChallenge\\venv\\Lib\\site-packages\\pymilvus\\milvus_client\\milvus_client.py:59\u001b[0m, in \u001b[0;36mMilvusClient.__init__\u001b[1;34m(self, uri, user, password, db_name, token, timeout, **kwargs)\u001b[0m\n\u001b[0;32m     47\u001b[0m \u001b[38;5;250m\u001b[39m\u001b[38;5;124;03m\"\"\"A client for the common Milvus use case.\u001b[39;00m\n\u001b[0;32m     48\u001b[0m \n\u001b[0;32m     49\u001b[0m \u001b[38;5;124;03mThis client attempts to hide away the complexity of using Pymilvus. In a lot ofcases what\u001b[39;00m\n\u001b[1;32m   (...)\u001b[0m\n\u001b[0;32m     57\u001b[0m \u001b[38;5;124;03m        to None.\u001b[39;00m\n\u001b[0;32m     58\u001b[0m \u001b[38;5;124;03m\"\"\"\u001b[39;00m\n\u001b[1;32m---> 59\u001b[0m \u001b[38;5;28mself\u001b[39m\u001b[38;5;241m.\u001b[39m_using \u001b[38;5;241m=\u001b[39m \u001b[38;5;28;43mself\u001b[39;49m\u001b[38;5;241;43m.\u001b[39;49m\u001b[43m_create_connection\u001b[49m\u001b[43m(\u001b[49m\n\u001b[0;32m     60\u001b[0m \u001b[43m    \u001b[49m\u001b[43muri\u001b[49m\u001b[43m,\u001b[49m\u001b[43m \u001b[49m\u001b[43muser\u001b[49m\u001b[43m,\u001b[49m\u001b[43m \u001b[49m\u001b[43mpassword\u001b[49m\u001b[43m,\u001b[49m\u001b[43m \u001b[49m\u001b[43mdb_name\u001b[49m\u001b[43m,\u001b[49m\u001b[43m \u001b[49m\u001b[43mtoken\u001b[49m\u001b[43m,\u001b[49m\u001b[43m \u001b[49m\u001b[43mtimeout\u001b[49m\u001b[38;5;241;43m=\u001b[39;49m\u001b[43mtimeout\u001b[49m\u001b[43m,\u001b[49m\u001b[43m \u001b[49m\u001b[38;5;241;43m*\u001b[39;49m\u001b[38;5;241;43m*\u001b[39;49m\u001b[43mkwargs\u001b[49m\n\u001b[0;32m     61\u001b[0m \u001b[43m\u001b[49m\u001b[43m)\u001b[49m\n\u001b[0;32m     62\u001b[0m \u001b[38;5;28mself\u001b[39m\u001b[38;5;241m.\u001b[39mis_self_hosted \u001b[38;5;241m=\u001b[39m \u001b[38;5;28mbool\u001b[39m(utility\u001b[38;5;241m.\u001b[39mget_server_type(using\u001b[38;5;241m=\u001b[39m\u001b[38;5;28mself\u001b[39m\u001b[38;5;241m.\u001b[39m_using) \u001b[38;5;241m==\u001b[39m \u001b[38;5;124m\"\u001b[39m\u001b[38;5;124mmilvus\u001b[39m\u001b[38;5;124m\"\u001b[39m)\n",
      "File \u001b[1;32md:\\AIChallenge\\venv\\Lib\\site-packages\\pymilvus\\milvus_client\\milvus_client.py:656\u001b[0m, in \u001b[0;36mMilvusClient._create_connection\u001b[1;34m(self, uri, user, password, db_name, token, **kwargs)\u001b[0m\n\u001b[0;32m    655\u001b[0m     logger\u001b[38;5;241m.\u001b[39merror(\u001b[38;5;124m\"\u001b[39m\u001b[38;5;124mFailed to create new connection using: \u001b[39m\u001b[38;5;132;01m%s\u001b[39;00m\u001b[38;5;124m\"\u001b[39m, using)\n\u001b[1;32m--> 656\u001b[0m     \u001b[38;5;28;01mraise\u001b[39;00m ex \u001b[38;5;28;01mfrom\u001b[39;00m \u001b[38;5;21;01mex\u001b[39;00m\n\u001b[0;32m    657\u001b[0m \u001b[38;5;28;01melse\u001b[39;00m:\n",
      "File \u001b[1;32md:\\AIChallenge\\venv\\Lib\\site-packages\\pymilvus\\milvus_client\\milvus_client.py:653\u001b[0m, in \u001b[0;36mMilvusClient._create_connection\u001b[1;34m(self, uri, user, password, db_name, token, **kwargs)\u001b[0m\n\u001b[0;32m    652\u001b[0m \u001b[38;5;28;01mtry\u001b[39;00m:\n\u001b[1;32m--> 653\u001b[0m     \u001b[43mconnections\u001b[49m\u001b[38;5;241;43m.\u001b[39;49m\u001b[43mconnect\u001b[49m\u001b[43m(\u001b[49m\u001b[43musing\u001b[49m\u001b[43m,\u001b[49m\u001b[43m \u001b[49m\u001b[43muser\u001b[49m\u001b[43m,\u001b[49m\u001b[43m \u001b[49m\u001b[43mpassword\u001b[49m\u001b[43m,\u001b[49m\u001b[43m \u001b[49m\u001b[43mdb_name\u001b[49m\u001b[43m,\u001b[49m\u001b[43m \u001b[49m\u001b[43mtoken\u001b[49m\u001b[43m,\u001b[49m\u001b[43m \u001b[49m\u001b[43muri\u001b[49m\u001b[38;5;241;43m=\u001b[39;49m\u001b[43muri\u001b[49m\u001b[43m,\u001b[49m\u001b[43m \u001b[49m\u001b[38;5;241;43m*\u001b[39;49m\u001b[38;5;241;43m*\u001b[39;49m\u001b[43mkwargs\u001b[49m\u001b[43m)\u001b[49m\n\u001b[0;32m    654\u001b[0m \u001b[38;5;28;01mexcept\u001b[39;00m \u001b[38;5;167;01mException\u001b[39;00m \u001b[38;5;28;01mas\u001b[39;00m ex:\n",
      "File \u001b[1;32md:\\AIChallenge\\venv\\Lib\\site-packages\\pymilvus\\orm\\connections.py:379\u001b[0m, in \u001b[0;36mConnections.connect\u001b[1;34m(self, alias, user, password, db_name, token, **kwargs)\u001b[0m\n\u001b[0;32m    375\u001b[0m     \u001b[38;5;28;01mraise\u001b[39;00m ConnectionConfigException(\n\u001b[0;32m    376\u001b[0m         message\u001b[38;5;241m=\u001b[39m\u001b[38;5;124mf\u001b[39m\u001b[38;5;124m\"\u001b[39m\u001b[38;5;124mOpen local milvus failed, dir: \u001b[39m\u001b[38;5;132;01m{\u001b[39;00mparent_path\u001b[38;5;132;01m}\u001b[39;00m\u001b[38;5;124m is not exists\u001b[39m\u001b[38;5;124m\"\u001b[39m\n\u001b[0;32m    377\u001b[0m     )\n\u001b[1;32m--> 379\u001b[0m \u001b[38;5;28;01mfrom\u001b[39;00m \u001b[38;5;21;01mmilvus_lite\u001b[39;00m\u001b[38;5;21;01m.\u001b[39;00m\u001b[38;5;21;01mserver_manager\u001b[39;00m \u001b[38;5;28;01mimport\u001b[39;00m server_manager_instance\n\u001b[0;32m    381\u001b[0m logger\u001b[38;5;241m.\u001b[39minfo(\u001b[38;5;124mf\u001b[39m\u001b[38;5;124m\"\u001b[39m\u001b[38;5;124mPass in the local path \u001b[39m\u001b[38;5;132;01m{\u001b[39;00mkwargs[\u001b[38;5;124m'\u001b[39m\u001b[38;5;124muri\u001b[39m\u001b[38;5;124m'\u001b[39m]\u001b[38;5;132;01m}\u001b[39;00m\u001b[38;5;124m, and run it using milvus-lite\u001b[39m\u001b[38;5;124m\"\u001b[39m)\n",
      "\u001b[1;31mModuleNotFoundError\u001b[0m: No module named 'milvus_lite'",
      "\nThe above exception was the direct cause of the following exception:\n",
      "\u001b[1;31mModuleNotFoundError\u001b[0m                       Traceback (most recent call last)",
      "Cell \u001b[1;32mIn[10], line 3\u001b[0m\n\u001b[0;32m      1\u001b[0m \u001b[38;5;28;01mfrom\u001b[39;00m \u001b[38;5;21;01mpymilvus\u001b[39;00m \u001b[38;5;28;01mimport\u001b[39;00m MilvusClient\n\u001b[1;32m----> 3\u001b[0m client \u001b[38;5;241m=\u001b[39m \u001b[43mMilvusClient\u001b[49m\u001b[43m(\u001b[49m\u001b[38;5;124;43m\"\u001b[39;49m\u001b[38;5;124;43mmilvus_demo.db\u001b[39;49m\u001b[38;5;124;43m\"\u001b[39;49m\u001b[43m)\u001b[49m\n",
      "File \u001b[1;32md:\\AIChallenge\\venv\\Lib\\site-packages\\pymilvus\\milvus_client\\milvus_client.py:59\u001b[0m, in \u001b[0;36mMilvusClient.__init__\u001b[1;34m(self, uri, user, password, db_name, token, timeout, **kwargs)\u001b[0m\n\u001b[0;32m     37\u001b[0m \u001b[38;5;28;01mdef\u001b[39;00m \u001b[38;5;21m__init__\u001b[39m(\n\u001b[0;32m     38\u001b[0m     \u001b[38;5;28mself\u001b[39m,\n\u001b[0;32m     39\u001b[0m     uri: \u001b[38;5;28mstr\u001b[39m \u001b[38;5;241m=\u001b[39m \u001b[38;5;124m\"\u001b[39m\u001b[38;5;124mhttp://localhost:19530\u001b[39m\u001b[38;5;124m\"\u001b[39m,\n\u001b[1;32m   (...)\u001b[0m\n\u001b[0;32m     45\u001b[0m     \u001b[38;5;241m*\u001b[39m\u001b[38;5;241m*\u001b[39mkwargs,\n\u001b[0;32m     46\u001b[0m ) \u001b[38;5;241m-\u001b[39m\u001b[38;5;241m>\u001b[39m \u001b[38;5;28;01mNone\u001b[39;00m:\n\u001b[0;32m     47\u001b[0m \u001b[38;5;250m    \u001b[39m\u001b[38;5;124;03m\"\"\"A client for the common Milvus use case.\u001b[39;00m\n\u001b[0;32m     48\u001b[0m \n\u001b[0;32m     49\u001b[0m \u001b[38;5;124;03m    This client attempts to hide away the complexity of using Pymilvus. In a lot ofcases what\u001b[39;00m\n\u001b[1;32m   (...)\u001b[0m\n\u001b[0;32m     57\u001b[0m \u001b[38;5;124;03m            to None.\u001b[39;00m\n\u001b[0;32m     58\u001b[0m \u001b[38;5;124;03m    \"\"\"\u001b[39;00m\n\u001b[1;32m---> 59\u001b[0m     \u001b[38;5;28mself\u001b[39m\u001b[38;5;241m.\u001b[39m_using \u001b[38;5;241m=\u001b[39m \u001b[38;5;28;43mself\u001b[39;49m\u001b[38;5;241;43m.\u001b[39;49m\u001b[43m_create_connection\u001b[49m\u001b[43m(\u001b[49m\n\u001b[0;32m     60\u001b[0m \u001b[43m        \u001b[49m\u001b[43muri\u001b[49m\u001b[43m,\u001b[49m\u001b[43m \u001b[49m\u001b[43muser\u001b[49m\u001b[43m,\u001b[49m\u001b[43m \u001b[49m\u001b[43mpassword\u001b[49m\u001b[43m,\u001b[49m\u001b[43m \u001b[49m\u001b[43mdb_name\u001b[49m\u001b[43m,\u001b[49m\u001b[43m \u001b[49m\u001b[43mtoken\u001b[49m\u001b[43m,\u001b[49m\u001b[43m \u001b[49m\u001b[43mtimeout\u001b[49m\u001b[38;5;241;43m=\u001b[39;49m\u001b[43mtimeout\u001b[49m\u001b[43m,\u001b[49m\u001b[43m \u001b[49m\u001b[38;5;241;43m*\u001b[39;49m\u001b[38;5;241;43m*\u001b[39;49m\u001b[43mkwargs\u001b[49m\n\u001b[0;32m     61\u001b[0m \u001b[43m    \u001b[49m\u001b[43m)\u001b[49m\n\u001b[0;32m     62\u001b[0m     \u001b[38;5;28mself\u001b[39m\u001b[38;5;241m.\u001b[39mis_self_hosted \u001b[38;5;241m=\u001b[39m \u001b[38;5;28mbool\u001b[39m(utility\u001b[38;5;241m.\u001b[39mget_server_type(using\u001b[38;5;241m=\u001b[39m\u001b[38;5;28mself\u001b[39m\u001b[38;5;241m.\u001b[39m_using) \u001b[38;5;241m==\u001b[39m \u001b[38;5;124m\"\u001b[39m\u001b[38;5;124mmilvus\u001b[39m\u001b[38;5;124m\"\u001b[39m)\n",
      "File \u001b[1;32md:\\AIChallenge\\venv\\Lib\\site-packages\\pymilvus\\milvus_client\\milvus_client.py:656\u001b[0m, in \u001b[0;36mMilvusClient._create_connection\u001b[1;34m(self, uri, user, password, db_name, token, **kwargs)\u001b[0m\n\u001b[0;32m    654\u001b[0m \u001b[38;5;28;01mexcept\u001b[39;00m \u001b[38;5;167;01mException\u001b[39;00m \u001b[38;5;28;01mas\u001b[39;00m ex:\n\u001b[0;32m    655\u001b[0m     logger\u001b[38;5;241m.\u001b[39merror(\u001b[38;5;124m\"\u001b[39m\u001b[38;5;124mFailed to create new connection using: \u001b[39m\u001b[38;5;132;01m%s\u001b[39;00m\u001b[38;5;124m\"\u001b[39m, using)\n\u001b[1;32m--> 656\u001b[0m     \u001b[38;5;28;01mraise\u001b[39;00m ex \u001b[38;5;28;01mfrom\u001b[39;00m \u001b[38;5;21;01mex\u001b[39;00m\n\u001b[0;32m    657\u001b[0m \u001b[38;5;28;01melse\u001b[39;00m:\n\u001b[0;32m    658\u001b[0m     logger\u001b[38;5;241m.\u001b[39mdebug(\u001b[38;5;124m\"\u001b[39m\u001b[38;5;124mCreated new connection using: \u001b[39m\u001b[38;5;132;01m%s\u001b[39;00m\u001b[38;5;124m\"\u001b[39m, using)\n",
      "File \u001b[1;32md:\\AIChallenge\\venv\\Lib\\site-packages\\pymilvus\\milvus_client\\milvus_client.py:653\u001b[0m, in \u001b[0;36mMilvusClient._create_connection\u001b[1;34m(self, uri, user, password, db_name, token, **kwargs)\u001b[0m\n\u001b[0;32m    651\u001b[0m using \u001b[38;5;241m=\u001b[39m uuid4()\u001b[38;5;241m.\u001b[39mhex\n\u001b[0;32m    652\u001b[0m \u001b[38;5;28;01mtry\u001b[39;00m:\n\u001b[1;32m--> 653\u001b[0m     \u001b[43mconnections\u001b[49m\u001b[38;5;241;43m.\u001b[39;49m\u001b[43mconnect\u001b[49m\u001b[43m(\u001b[49m\u001b[43musing\u001b[49m\u001b[43m,\u001b[49m\u001b[43m \u001b[49m\u001b[43muser\u001b[49m\u001b[43m,\u001b[49m\u001b[43m \u001b[49m\u001b[43mpassword\u001b[49m\u001b[43m,\u001b[49m\u001b[43m \u001b[49m\u001b[43mdb_name\u001b[49m\u001b[43m,\u001b[49m\u001b[43m \u001b[49m\u001b[43mtoken\u001b[49m\u001b[43m,\u001b[49m\u001b[43m \u001b[49m\u001b[43muri\u001b[49m\u001b[38;5;241;43m=\u001b[39;49m\u001b[43muri\u001b[49m\u001b[43m,\u001b[49m\u001b[43m \u001b[49m\u001b[38;5;241;43m*\u001b[39;49m\u001b[38;5;241;43m*\u001b[39;49m\u001b[43mkwargs\u001b[49m\u001b[43m)\u001b[49m\n\u001b[0;32m    654\u001b[0m \u001b[38;5;28;01mexcept\u001b[39;00m \u001b[38;5;167;01mException\u001b[39;00m \u001b[38;5;28;01mas\u001b[39;00m ex:\n\u001b[0;32m    655\u001b[0m     logger\u001b[38;5;241m.\u001b[39merror(\u001b[38;5;124m\"\u001b[39m\u001b[38;5;124mFailed to create new connection using: \u001b[39m\u001b[38;5;132;01m%s\u001b[39;00m\u001b[38;5;124m\"\u001b[39m, using)\n",
      "File \u001b[1;32md:\\AIChallenge\\venv\\Lib\\site-packages\\pymilvus\\orm\\connections.py:379\u001b[0m, in \u001b[0;36mConnections.connect\u001b[1;34m(self, alias, user, password, db_name, token, **kwargs)\u001b[0m\n\u001b[0;32m    374\u001b[0m \u001b[38;5;28;01mif\u001b[39;00m \u001b[38;5;129;01mnot\u001b[39;00m parent_path\u001b[38;5;241m.\u001b[39mis_dir():\n\u001b[0;32m    375\u001b[0m     \u001b[38;5;28;01mraise\u001b[39;00m ConnectionConfigException(\n\u001b[0;32m    376\u001b[0m         message\u001b[38;5;241m=\u001b[39m\u001b[38;5;124mf\u001b[39m\u001b[38;5;124m\"\u001b[39m\u001b[38;5;124mOpen local milvus failed, dir: \u001b[39m\u001b[38;5;132;01m{\u001b[39;00mparent_path\u001b[38;5;132;01m}\u001b[39;00m\u001b[38;5;124m is not exists\u001b[39m\u001b[38;5;124m\"\u001b[39m\n\u001b[0;32m    377\u001b[0m     )\n\u001b[1;32m--> 379\u001b[0m \u001b[38;5;28;01mfrom\u001b[39;00m \u001b[38;5;21;01mmilvus_lite\u001b[39;00m\u001b[38;5;21;01m.\u001b[39;00m\u001b[38;5;21;01mserver_manager\u001b[39;00m \u001b[38;5;28;01mimport\u001b[39;00m server_manager_instance\n\u001b[0;32m    381\u001b[0m logger\u001b[38;5;241m.\u001b[39minfo(\u001b[38;5;124mf\u001b[39m\u001b[38;5;124m\"\u001b[39m\u001b[38;5;124mPass in the local path \u001b[39m\u001b[38;5;132;01m{\u001b[39;00mkwargs[\u001b[38;5;124m'\u001b[39m\u001b[38;5;124muri\u001b[39m\u001b[38;5;124m'\u001b[39m]\u001b[38;5;132;01m}\u001b[39;00m\u001b[38;5;124m, and run it using milvus-lite\u001b[39m\u001b[38;5;124m\"\u001b[39m)\n\u001b[0;32m    382\u001b[0m local_uri \u001b[38;5;241m=\u001b[39m server_manager_instance\u001b[38;5;241m.\u001b[39mstart_and_get_uri(kwargs[\u001b[38;5;124m\"\u001b[39m\u001b[38;5;124muri\u001b[39m\u001b[38;5;124m\"\u001b[39m])\n",
      "\u001b[1;31mModuleNotFoundError\u001b[0m: No module named 'milvus_lite'"
     ]
    }
   ],
   "source": [
    "from pymilvus import MilvusClient\n",
    "\n",
    "client = MilvusClient(\"milvus_demo.db\")"
   ]
  }
 ],
 "metadata": {
  "kernelspec": {
   "display_name": "venv",
   "language": "python",
   "name": "python3"
  },
  "language_info": {
   "codemirror_mode": {
    "name": "ipython",
    "version": 3
   },
   "file_extension": ".py",
   "mimetype": "text/x-python",
   "name": "python",
   "nbconvert_exporter": "python",
   "pygments_lexer": "ipython3",
   "version": "3.11.9"
  }
 },
 "nbformat": 4,
 "nbformat_minor": 2
}

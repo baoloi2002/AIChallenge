{
 "cells": [
  {
   "cell_type": "code",
   "execution_count": 1,
   "metadata": {},
   "outputs": [],
   "source": [
    "import os\n",
    "from tqdm import tqdm\n",
    "from PIL import Image\n",
    "\n",
    "def scan_file_path_in_folder(directory):\n",
    "    lst = []\n",
    "    for root, dirs, files in os.walk(directory):\n",
    "        # check files in the directory\n",
    "        for file in files:\n",
    "            lst.append(os.path.join(root, file))\n",
    "    return lst\n",
    "\n",
    "\n",
    "def scan_file_name_in_folder(directory):\n",
    "    lst = []\n",
    "    for root, dirs, files in os.walk(directory):\n",
    "        # check files in the directory\n",
    "        for file in files:\n",
    "            # remove the extension\n",
    "            file_name = os.path.splitext(file)[0]\n",
    "            lst.append(file_name)\n",
    "    return lst\n",
    "\n",
    "\n",
    "audio_text = r\"Data\\rawData\\Audio_text\""
   ]
  },
  {
   "cell_type": "code",
   "execution_count": 2,
   "metadata": {},
   "outputs": [
    {
     "name": "stdout",
     "output_type": "stream",
     "text": [
      "['L01_V001', 'L01_V002', 'L01_V003', 'L01_V004', 'L01_V005', 'L01_V006', 'L01_V007', 'L01_V008', 'L01_V009', 'L01_V010', 'L01_V011', 'L01_V012', 'L01_V013', 'L01_V014', 'L01_V015', 'L01_V016', 'L01_V017', 'L01_V018', 'L01_V019', 'L01_V020', 'L01_V021', 'L01_V022', 'L01_V023', 'L01_V024', 'L01_V025', 'L01_V026', 'L01_V027', 'L01_V028', 'L01_V029', 'L01_V030', 'L01_V031', 'L02_V001', 'L02_V002', 'L02_V003', 'L02_V004', 'L02_V005', 'L02_V006', 'L02_V007', 'L02_V008', 'L02_V009', 'L02_V010', 'L02_V011', 'L02_V012', 'L02_V013', 'L02_V014', 'L02_V015', 'L02_V016', 'L02_V017', 'L02_V018', 'L02_V019', 'L02_V020', 'L02_V021', 'L02_V022', 'L02_V023', 'L02_V024', 'L02_V025', 'L02_V026', 'L02_V027', 'L02_V028', 'L02_V029', 'L02_V030', 'L02_V031', 'L03_V001', 'L03_V002', 'L03_V003', 'L03_V004', 'L03_V005', 'L03_V006', 'L03_V007', 'L03_V008', 'L03_V009', 'L03_V010', 'L03_V011', 'L03_V012', 'L03_V013', 'L03_V014', 'L03_V015', 'L03_V016', 'L03_V017', 'L03_V018', 'L03_V019', 'L03_V020', 'L03_V021', 'L03_V022', 'L03_V023', 'L03_V024', 'L03_V025', 'L03_V026', 'L03_V027', 'L03_V028', 'L03_V029', 'L03_V030', 'L04_V001', 'L04_V002', 'L04_V003', 'L04_V004', 'L04_V005', 'L04_V006', 'L04_V007', 'L04_V008', 'L04_V009', 'L04_V010', 'L04_V011', 'L04_V012', 'L04_V013', 'L04_V014', 'L04_V015', 'L04_V016', 'L04_V017', 'L04_V018', 'L04_V019', 'L04_V020', 'L04_V021', 'L04_V022', 'L04_V023', 'L04_V024', 'L04_V025', 'L04_V026', 'L04_V027', 'L04_V028', 'L04_V029', 'L04_V030', 'L05_V001', 'L05_V002', 'L05_V003', 'L05_V004', 'L05_V005', 'L05_V006', 'L05_V007', 'L05_V008', 'L05_V009', 'L05_V010', 'L05_V011', 'L05_V012', 'L05_V013', 'L05_V014', 'L05_V015', 'L05_V016', 'L05_V017', 'L05_V018', 'L05_V019', 'L05_V020', 'L05_V021', 'L05_V022', 'L05_V023', 'L05_V024', 'L05_V025', 'L05_V026', 'L05_V027', 'L05_V028', 'L05_V029', 'L05_V030', 'L05_V031', 'L06_V001', 'L06_V002', 'L06_V003', 'L06_V004', 'L06_V005', 'L06_V006', 'L06_V007', 'L06_V008', 'L06_V009', 'L06_V010', 'L06_V011', 'L06_V012', 'L06_V013', 'L06_V014', 'L06_V015', 'L06_V016', 'L06_V017', 'L06_V018', 'L06_V019', 'L06_V020', 'L06_V021', 'L06_V022', 'L06_V023', 'L06_V024', 'L06_V025', 'L06_V026', 'L06_V027', 'L06_V028', 'L06_V029', 'L06_V030', 'L06_V031', 'L07_V001', 'L07_V002', 'L07_V003', 'L07_V004', 'L07_V005', 'L07_V006', 'L07_V007', 'L07_V008', 'L07_V009', 'L07_V010', 'L07_V011', 'L07_V012', 'L07_V013', 'L07_V014', 'L07_V015', 'L07_V016', 'L07_V017', 'L07_V018', 'L07_V019', 'L07_V020', 'L07_V021', 'L07_V022', 'L07_V023', 'L07_V024', 'L07_V025', 'L07_V026', 'L07_V027', 'L07_V028', 'L07_V029', 'L07_V030', 'L07_V031', 'L08_V001', 'L08_V002', 'L08_V003', 'L08_V004', 'L08_V005', 'L08_V006', 'L08_V007', 'L08_V008', 'L08_V009', 'L08_V010', 'L08_V011', 'L08_V012', 'L08_V013', 'L08_V014', 'L08_V015', 'L08_V016', 'L08_V017', 'L08_V018', 'L08_V019', 'L08_V020', 'L08_V021', 'L08_V022', 'L08_V023', 'L08_V024', 'L08_V025', 'L08_V026', 'L08_V027', 'L08_V028', 'L08_V029', 'L08_V030', 'L09_V001', 'L09_V002', 'L09_V003', 'L09_V004', 'L09_V005', 'L09_V006', 'L09_V007', 'L09_V008', 'L09_V009', 'L09_V010', 'L09_V011', 'L09_V012', 'L09_V013', 'L09_V014', 'L09_V015', 'L09_V016', 'L09_V017', 'L09_V018', 'L09_V019', 'L09_V020', 'L09_V021', 'L09_V022', 'L09_V023', 'L09_V024', 'L09_V025', 'L09_V026', 'L09_V027', 'L09_V028', 'L09_V029', 'L10_V001', 'L10_V002', 'L10_V003', 'L10_V004', 'L10_V005', 'L10_V006', 'L10_V007', 'L10_V008', 'L10_V009', 'L10_V010', 'L10_V011', 'L10_V012', 'L10_V013', 'L10_V014', 'L10_V015', 'L10_V016', 'L10_V017', 'L10_V018', 'L10_V019', 'L10_V020', 'L10_V021', 'L10_V022', 'L10_V023', 'L10_V024', 'L10_V025', 'L10_V026', 'L10_V027', 'L10_V028', 'L10_V029', 'L11_V001', 'L11_V002', 'L11_V003', 'L11_V004', 'L11_V005', 'L11_V006', 'L11_V007', 'L11_V008', 'L11_V009', 'L11_V010', 'L11_V011', 'L11_V012', 'L11_V013', 'L11_V014', 'L11_V015', 'L11_V016', 'L11_V017', 'L11_V018', 'L11_V019', 'L11_V020', 'L11_V021', 'L11_V022', 'L11_V023', 'L11_V024', 'L11_V025', 'L11_V026', 'L11_V027', 'L11_V028', 'L11_V029', 'L11_V030', 'L12_V001', 'L12_V002', 'L12_V003', 'L12_V004', 'L12_V005', 'L12_V006', 'L12_V007', 'L12_V008', 'L12_V009', 'L12_V010', 'L12_V011', 'L12_V012', 'L12_V013', 'L12_V014', 'L12_V015', 'L12_V016', 'L12_V017', 'L12_V018', 'L12_V019', 'L12_V020', 'L12_V021', 'L12_V022', 'L12_V023', 'L12_V024', 'L12_V025', 'L12_V026', 'L12_V027', 'L12_V028', 'L12_V029', 'L12_V030', 'L13_V001', 'L13_V002', 'L13_V003', 'L13_V004', 'L13_V005', 'L13_V006', 'L13_V007', 'L13_V008', 'L13_V009', 'L13_V010', 'L13_V011', 'L13_V012', 'L13_V013', 'L13_V014', 'L13_V015', 'L13_V016', 'L13_V017', 'L13_V018', 'L13_V019', 'L13_V020', 'L13_V021', 'L13_V022', 'L13_V023', 'L13_V024', 'L13_V025', 'L13_V026', 'L13_V027', 'L13_V028', 'L13_V029', 'L13_V030', 'L14_V001', 'L14_V002', 'L14_V003', 'L14_V004', 'L14_V005', 'L14_V006', 'L14_V007', 'L14_V008', 'L14_V009', 'L14_V011', 'L14_V012', 'L14_V013', 'L14_V014', 'L14_V015', 'L14_V016', 'L14_V017', 'L14_V018', 'L14_V019', 'L14_V020', 'L14_V021', 'L14_V022', 'L14_V023', 'L14_V024', 'L14_V025', 'L14_V026', 'L14_V027', 'L14_V028', 'L15_V001', 'L15_V002', 'L15_V003', 'L15_V004', 'L15_V005', 'L15_V006', 'L15_V007', 'L15_V008', 'L15_V009', 'L15_V010', 'L15_V011', 'L15_V012', 'L15_V013', 'L15_V014', 'L15_V015', 'L15_V016', 'L15_V017', 'L15_V018', 'L15_V019', 'L15_V020', 'L15_V021', 'L15_V022', 'L15_V023', 'L15_V024', 'L15_V025', 'L15_V026', 'L15_V027', 'L15_V028', 'L15_V029', 'L15_V030', 'L15_V031', 'L16_V001', 'L16_V002', 'L16_V003', 'L16_V004', 'L16_V005', 'L16_V006', 'L16_V007', 'L16_V008', 'L16_V009', 'L16_V010', 'L16_V011', 'L16_V012', 'L16_V013', 'L16_V014', 'L16_V015', 'L16_V016', 'L16_V017', 'L16_V018', 'L16_V019', 'L16_V020', 'L16_V021', 'L16_V022', 'L16_V023', 'L16_V024', 'L16_V025', 'L16_V026', 'L16_V027', 'L16_V028', 'L16_V029', 'L16_V030', 'L16_V031', 'L17_V001', 'L17_V002', 'L17_V003', 'L17_V004', 'L17_V005', 'L17_V006', 'L17_V007', 'L17_V009', 'L17_V010', 'L17_V011', 'L17_V012', 'L17_V013', 'L17_V014', 'L17_V015', 'L17_V016', 'L17_V017', 'L17_V018', 'L17_V019', 'L17_V020', 'L17_V021', 'L17_V022', 'L17_V023', 'L17_V024', 'L17_V025', 'L17_V026', 'L17_V027', 'L17_V028', 'L17_V029', 'L18_V001', 'L18_V002', 'L18_V003', 'L18_V004', 'L18_V005', 'L18_V006', 'L18_V007', 'L18_V008', 'L18_V009', 'L18_V010', 'L18_V011', 'L18_V012', 'L18_V013', 'L18_V014', 'L18_V015', 'L18_V016', 'L18_V017', 'L18_V018', 'L18_V019', 'L18_V020', 'L18_V021', 'L18_V022', 'L18_V023', 'L18_V024', 'L18_V025', 'L18_V026', 'L18_V027', 'L18_V028', 'L18_V029', 'L19_V001', 'L19_V003', 'L19_V004', 'L19_V005', 'L19_V006', 'L19_V007', 'L19_V008', 'L19_V009', 'L19_V010', 'L19_V011', 'L19_V012', 'L19_V013', 'L19_V014', 'L19_V015', 'L19_V016', 'L19_V017', 'L19_V018', 'L19_V019', 'L19_V020', 'L19_V021', 'L19_V022', 'L19_V023', 'L19_V024', 'L19_V025', 'L19_V026', 'L19_V027', 'L19_V028', 'L19_V029', 'L19_V030', 'L19_V031', 'L20_V001', 'L20_V002', 'L20_V003', 'L20_V004', 'L20_V005', 'L20_V006', 'L20_V007', 'L20_V008', 'L20_V009', 'L20_V010', 'L20_V011', 'L20_V012', 'L20_V013', 'L20_V014', 'L20_V015', 'L20_V016', 'L20_V017', 'L20_V018', 'L20_V019', 'L20_V020', 'L20_V021', 'L20_V022', 'L20_V024', 'L20_V025', 'L20_V027', 'L20_V028', 'L20_V029', 'L20_V030', 'L20_V031', 'L21_V001', 'L21_V002', 'L21_V003', 'L21_V005', 'L21_V006', 'L21_V007', 'L21_V008', 'L21_V009', 'L21_V010', 'L21_V011', 'L21_V012', 'L21_V013', 'L21_V014', 'L21_V015', 'L21_V016', 'L21_V017', 'L21_V018', 'L21_V019', 'L21_V021', 'L21_V022', 'L21_V023', 'L21_V024', 'L21_V025', 'L21_V026', 'L21_V027', 'L21_V028', 'L21_V029', 'L21_V030', 'L21_V031', 'L22_V001', 'L22_V002', 'L22_V003', 'L22_V004', 'L22_V005', 'L22_V006', 'L22_V007', 'L22_V008', 'L22_V009', 'L22_V010', 'L22_V011', 'L22_V012', 'L22_V013', 'L22_V014', 'L22_V015', 'L22_V016', 'L22_V017', 'L22_V018', 'L22_V019', 'L22_V020', 'L22_V021', 'L22_V022', 'L22_V023', 'L22_V024', 'L22_V025', 'L22_V026', 'L22_V027', 'L22_V028', 'L22_V029', 'L22_V030', 'L22_V031', 'L23_V001', 'L23_V002', 'L23_V003', 'L23_V004', 'L23_V005', 'L23_V006', 'L23_V007', 'L23_V008', 'L23_V009', 'L23_V010', 'L23_V011', 'L23_V012', 'L23_V013', 'L23_V014', 'L23_V015', 'L23_V016', 'L23_V017', 'L23_V018', 'L23_V019', 'L23_V020', 'L23_V021', 'L23_V022', 'L23_V023', 'L23_V024', 'L23_V025', 'L24_V002', 'L24_V003', 'L24_V004', 'L24_V005', 'L24_V006', 'L24_V007', 'L24_V008', 'L24_V009', 'L24_V010', 'L24_V011', 'L24_V012', 'L24_V013', 'L24_V014', 'L24_V015', 'L24_V016', 'L24_V017', 'L24_V018', 'L24_V019', 'L24_V020', 'L24_V021', 'L24_V022', 'L24_V023', 'L24_V024', 'L24_V025', 'L24_V026', 'L24_V027', 'L24_V028', 'L24_V029', 'L24_V030', 'L24_V031', 'L24_V032', 'L24_V033', 'L24_V035', 'L24_V036', 'L24_V037', 'L24_V038', 'L24_V039', 'L24_V040', 'L24_V041', 'L24_V042', 'L24_V043', 'L24_V044', 'L24_V045']\n"
     ]
    }
   ],
   "source": [
    "path_lst = scan_file_path_in_folder(\"Data\\\\PreporcessData\\\\Audio_key_text\\\\L01_V001\")\n",
    "name_lst = scan_file_name_in_folder(audio_text)\n",
    "print(name_lst)"
   ]
  },
  {
   "cell_type": "code",
   "execution_count": 3,
   "metadata": {},
   "outputs": [],
   "source": [
    "import timm\n",
    "import torch\n",
    "\n",
    "beitv2 = timm.create_model(\n",
    "    \"beitv2_base_patch16_224.in1k_ft_in22k\",\n",
    "    pretrained=True,\n",
    "    num_classes=0,  # remove classifier nn.Linear\n",
    ").to(\"cuda\")\n",
    "beitv2.eval()\n",
    "for param in beitv2.parameters():\n",
    "    param.requires_grad = False\n",
    "beitv2_data_config = timm.data.resolve_model_data_config(beitv2)\n",
    "beitv2_transofms = timm.data.create_transform(**beitv2_data_config, is_training=False)"
   ]
  },
  {
   "cell_type": "code",
   "execution_count": 4,
   "metadata": {},
   "outputs": [
    {
     "name": "stderr",
     "output_type": "stream",
     "text": [
      "100%|██████████| 363/363 [47:05<00:00,  7.78s/it]\n"
     ]
    }
   ],
   "source": [
    "for i in tqdm(range(1, len(name_lst), 2)):\n",
    "    name = name_lst[i]\n",
    "    path_lst = scan_file_path_in_folder(\n",
    "        f\"Data\\\\rawData\\\\Keyframes\\\\Keyframes_{name[0:3]}\\\\keyframes\\\\{name}\"\n",
    "    )\n",
    "    sub_name_lst = scan_file_name_in_folder(\n",
    "        f\"Data\\\\rawData\\\\Keyframes\\\\Keyframes_{name[0:3]}\\\\keyframes\\\\{name}\"\n",
    "    )\n",
    "    for path, sub_name in zip(path_lst, sub_name_lst):\n",
    "        out_path = f\"Data\\\\PreporcessData\\\\BEITv2\\\\{name}_{sub_name}.pt\"\n",
    "        # check if the file is already exist\n",
    "        if os.path.exists(out_path):\n",
    "            continue\n",
    "        # open the image\n",
    "        image = Image.open(path).convert(\"RGB\")\n",
    "        image = image.resize((800, 800))\n",
    "\n",
    "        with torch.no_grad():\n",
    "            output = beitv2.forward_features(\n",
    "                beitv2_transofms(image).unsqueeze(0).to(\"cuda\")\n",
    "            )\n",
    "            torch.save(output, out_path)"
   ]
  }
 ],
 "metadata": {
  "kernelspec": {
   "display_name": "venv",
   "language": "python",
   "name": "python3"
  },
  "language_info": {
   "codemirror_mode": {
    "name": "ipython",
    "version": 3
   },
   "file_extension": ".py",
   "mimetype": "text/x-python",
   "name": "python",
   "nbconvert_exporter": "python",
   "pygments_lexer": "ipython3",
   "version": "3.11.9"
  }
 },
 "nbformat": 4,
 "nbformat_minor": 2
}

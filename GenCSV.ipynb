{
 "cells": [
  {
   "cell_type": "code",
   "execution_count": 1,
   "metadata": {},
   "outputs": [],
   "source": [
    "# Path List\n",
    "clip_feature_32 = \"clip-features-32\"\n",
    "key_frame = \"Keyframes\"\n",
    "map_key_frame = \"map-keyframes\"\n",
    "media_info = \"media-info\"\n",
    "video = \"Video\"\n",
    "video_a = \"Video_a\""
   ]
  },
  {
   "cell_type": "code",
   "execution_count": 2,
   "metadata": {},
   "outputs": [],
   "source": [
    "import os\n",
    "\n",
    "def scan_files_in_folder(directory):\n",
    "    lst = []\n",
    "    for root, dirs, files in os.walk(directory):\n",
    "        # check files in the directory\n",
    "        for file in files:\n",
    "            file_path = os.path.join(root, file)\n",
    "            lst.append(file_path)\n",
    "    return lst\n",
    "\n",
    "def scan_file_name_in_folder(directory):\n",
    "    lst = []\n",
    "    for root, dirs, files in os.walk(directory):\n",
    "        # check files in the directory\n",
    "        for file in files:\n",
    "            # remove the extension\n",
    "            file_name = os.path.splitext(file)[0]\n",
    "            lst.append(file_name)\n",
    "    return lst"
   ]
  },
  {
   "cell_type": "code",
   "execution_count": 3,
   "metadata": {},
   "outputs": [],
   "source": [
    "name = scan_file_name_in_folder(clip_feature_32)\n",
    "lst_clip_feature_32 = scan_files_in_folder(clip_feature_32)\n",
    "lst_map_key_frame = scan_files_in_folder(map_key_frame)\n",
    "lst_media_info = scan_files_in_folder(media_info)\n",
    "lst_video = scan_files_in_folder(video)\n",
    "lst_video_a = scan_files_in_folder(video_a)"
   ]
  },
  {
   "cell_type": "code",
   "execution_count": 4,
   "metadata": {},
   "outputs": [],
   "source": [
    "# mix them to a csv file\n",
    "import pandas as pd\n",
    "\n",
    "df = pd.DataFrame({\n",
    "    \"name\": name,\n",
    "    \"clip_feature_32\": lst_clip_feature_32,\n",
    "    \"map_key_frame\": lst_map_key_frame,\n",
    "    \"media_info\": lst_media_info,\n",
    "    \"video\": lst_video,\n",
    "    \"video_a\": lst_video_a,\n",
    "})\n",
    "\n",
    "# save to csv\n",
    "df.to_csv(\"data.csv\", index=False)"
   ]
  }
 ],
 "metadata": {
  "kernelspec": {
   "display_name": "Python 3",
   "language": "python",
   "name": "python3"
  },
  "language_info": {
   "codemirror_mode": {
    "name": "ipython",
    "version": 3
   },
   "file_extension": ".py",
   "mimetype": "text/x-python",
   "name": "python",
   "nbconvert_exporter": "python",
   "pygments_lexer": "ipython3",
   "version": "3.11.9"
  }
 },
 "nbformat": 4,
 "nbformat_minor": 2
}

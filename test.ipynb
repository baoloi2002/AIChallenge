{
 "cells": [
  {
   "cell_type": "code",
   "execution_count": 1,
   "metadata": {},
   "outputs": [
    {
     "name": "stdout",
     "output_type": "stream",
     "text": [
      "(216, 512)\n"
     ]
    }
   ],
   "source": [
    "# load npy\n",
    "import numpy as np\n",
    "\n",
    "\n",
    "data = np.load(r'Data\\PreporcessData\\clip-features-32\\L01_V002.npy')\n",
    "print(data.shape)"
   ]
  },
  {
   "cell_type": "code",
   "execution_count": null,
   "metadata": {},
   "outputs": [],
   "source": [
    "from transformers import MarianMTModel, MarianTokenizer\n",
    "\n",
    "# Load the tokenizer and model\n",
    "model_name = \"Helsinki-NLP/opus-mt-en-vi\"  # English to Vietnamese\n",
    "tokenizer = MarianTokenizer.from_pretrained(model_name)\n",
    "model = MarianMTModel.from_pretrained(model_name)\n",
    "\n",
    "def translate_text(text, src_lang=\"en\", tgt_lang=\"vi\"):\n",
    "    # Tokenize the input text\n",
    "    tokenized_text = tokenizer(text, return_tensors=\"pt\", padding=True, truncation=True)\n",
    "    # Generate translation\n",
    "    translation = model.generate(**tokenized_text)\n",
    "    # Decode the generated tokens into text\n",
    "    translated_text = tokenizer.decode(translation[0], skip_special_tokens=True)\n",
    "    return translated_text\n",
    "\n",
    "# Example usage\n",
    "text = \"This is a test sentence for translation.\"\n",
    "translated_text = translate_text(text)\n",
    "print(translated_text)\n"
   ]
  }
 ],
 "metadata": {
  "kernelspec": {
   "display_name": "venv",
   "language": "python",
   "name": "python3"
  },
  "language_info": {
   "codemirror_mode": {
    "name": "ipython",
    "version": 3
   },
   "file_extension": ".py",
   "mimetype": "text/x-python",
   "name": "python",
   "nbconvert_exporter": "python",
   "pygments_lexer": "ipython3",
   "version": "3.11.9"
  }
 },
 "nbformat": 4,
 "nbformat_minor": 2
}

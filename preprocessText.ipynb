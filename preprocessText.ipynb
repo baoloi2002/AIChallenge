{
 "cells": [
  {
   "cell_type": "code",
   "execution_count": null,
   "metadata": {},
   "outputs": [],
   "source": [
    "import torch\n",
    "from transformers import AutoModel, AutoTokenizer\n",
    "\n",
    "#BARTpho-syllable\n",
    "syllable_tokenizer = AutoTokenizer.from_pretrained(\"vinai/bartpho-syllable\")\n",
    "bartpho_syllable = AutoModel.from_pretrained(\"vinai/bartpho-syllable\")\n",
    "TXT = 'Chúng tôi là những nghiên cứu viên.'  \n",
    "input_ids = syllable_tokenizer(TXT, return_tensors='pt')['input_ids']\n",
    "features = bartpho_syllable(input_ids)\n",
    "\n",
    "#BARTpho-word\n",
    "word_tokenizer = AutoTokenizer.from_pretrained(\"vinai/bartpho-word\")\n",
    "bartpho_word = AutoModel.from_pretrained(\"vinai/bartpho-word\")\n",
    "TXT = 'Chúng_tôi là những nghiên_cứu_viên .'  \n",
    "input_ids = word_tokenizer(TXT, return_tensors='pt')['input_ids']\n",
    "features = bartpho_word(input_ids)"
   ]
  },
  {
   "cell_type": "code",
   "execution_count": null,
   "metadata": {},
   "outputs": [],
   "source": []
  }
 ],
 "metadata": {
  "kernelspec": {
   "display_name": "venv",
   "language": "python",
   "name": "python3"
  },
  "language_info": {
   "codemirror_mode": {
    "name": "ipython",
    "version": 3
   },
   "file_extension": ".py",
   "mimetype": "text/x-python",
   "name": "python",
   "nbconvert_exporter": "python",
   "pygments_lexer": "ipython3",
   "version": "3.11.9"
  }
 },
 "nbformat": 4,
 "nbformat_minor": 2
}

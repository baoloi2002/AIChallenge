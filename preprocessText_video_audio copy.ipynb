{
 "cells": [
  {
   "cell_type": "code",
   "execution_count": 1,
   "metadata": {},
   "outputs": [],
   "source": [
    "Fixed_Length = 256"
   ]
  },
  {
   "cell_type": "code",
   "execution_count": 2,
   "metadata": {},
   "outputs": [
    {
     "name": "stderr",
     "output_type": "stream",
     "text": [
      "d:\\AIChallenge\\venv\\Lib\\site-packages\\transformers\\tokenization_utils_base.py:1602: FutureWarning: `clean_up_tokenization_spaces` was not set. It will be set to `True` by default. This behavior will be deprecated in transformers v4.45, and will be then set to `False` by default. For more details check this issue: https://github.com/huggingface/transformers/issues/31884\n",
      "  warnings.warn(\n",
      "d:\\AIChallenge\\venv\\Lib\\site-packages\\torch\\_utils.py:831: UserWarning: TypedStorage is deprecated. It will be removed in the future and UntypedStorage will be the only storage class. This should only matter to you if you are using storages directly.  To access UntypedStorage directly, use tensor.untyped_storage() instead of tensor.storage()\n",
      "  return self.fget.__get__(instance, owner)()\n"
     ]
    }
   ],
   "source": [
    "import torch\n",
    "from transformers import AutoModel, AutoTokenizer\n",
    "from tqdm import tqdm\n",
    "\n",
    "# BARTpho-syllable\n",
    "# syllable_tokenizer = AutoTokenizer.from_pretrained(\"vinai/bartpho-syllable\")\n",
    "# bartpho_syllable = AutoModel.from_pretrained(\"vinai/bartpho-syllable\")\n",
    "# TXT = \"Chúng tôi là những nghiên cứu viên.\"\n",
    "# input_ids = syllable_tokenizer(TXT, return_tensors=\"pt\")[\"input_ids\"]\n",
    "# features = bartpho_syllable(input_ids)\n",
    "\n",
    "# BARTpho-word\n",
    "word_tokenizer = AutoTokenizer.from_pretrained(\"vinai/bartpho-word-base\")\n",
    "bartpho_word = AutoModel.from_pretrained(\"vinai/bartpho-word-base\")\n",
    "# to cuda\n",
    "bartpho_word.to(\"cuda\")\n",
    "bartpho_word.eval()\n",
    "for param in bartpho_word.parameters():\n",
    "    param.requires_grad = False\n",
    "# TXT = \"Chúng_tôi là những nghiên_cứu_viên .\"\n",
    "# input_ids = word_tokenizer(TXT, return_tensors=\"pt\")[\"input_ids\"]\n",
    "# features = bartpho_word(input_ids.to(\"cuda\"))\n",
    "\n",
    "# input_ids = word_tokenizer.encode(TXT, return_tensors=\"pt\").to(\"cuda\")\n",
    "# print(input_ids)\n",
    "# # check if input_ids is in cuda\n",
    "# features = bartpho_word(input_ids).last_hidden_state[0]"
   ]
  },
  {
   "cell_type": "code",
   "execution_count": 3,
   "metadata": {},
   "outputs": [
    {
     "name": "stdout",
     "output_type": "stream",
     "text": [
      "Chúng_tôi là những nghiên_cứu_viên . \n"
     ]
    }
   ],
   "source": [
    "# Word segmentation\n",
    "import py_vncorenlp\n",
    "\n",
    "# py_vncorenlp.download_model(save_dir=r\"D:\\VQA\\Notebook\\VnCoreNLP\")\n",
    "\n",
    "# Load the word and sentence segmentation component\n",
    "rdrsegmenter = py_vncorenlp.VnCoreNLP(\n",
    "    annotators=[\"wseg\"],\n",
    "    save_dir=r\"D:\\AIChallenge\\VnCoreNLP\",\n",
    ")\n",
    "\n",
    "# change dir to C:\\Users\\Asus.LAPTOP-8EU9PHJL.000\\Desktop\\VQA\\Notebook\n",
    "import os\n",
    "\n",
    "os.chdir(r\"D:\\AIChallenge\")\n",
    "\n",
    "\n",
    "def Word_Segmentation(text):\n",
    "    output = rdrsegmenter.word_segment(text)\n",
    "    if len(output) > 0:\n",
    "        # join all words in the list\n",
    "        res = \"\"\n",
    "        for i in output:\n",
    "            res += i + \" \"\n",
    "        return res\n",
    "    else:\n",
    "        output = \"\"\n",
    "    return output\n",
    "\n",
    "\n",
    "print(Word_Segmentation(\"Chúng tôi là những nghiên cứu viên.\"))"
   ]
  },
  {
   "cell_type": "code",
   "execution_count": 4,
   "metadata": {},
   "outputs": [],
   "source": [
    "import os\n",
    "\n",
    "\n",
    "def scan_file_path_in_folder(directory):\n",
    "    lst = []\n",
    "    for root, dirs, files in os.walk(directory):\n",
    "        # check files in the directory\n",
    "        for file in files:\n",
    "            lst.append(os.path.join(root, file))\n",
    "    return lst\n",
    "\n",
    "\n",
    "def scan_file_name_in_folder(directory):\n",
    "    lst = []\n",
    "    for root, dirs, files in os.walk(directory):\n",
    "        # check files in the directory\n",
    "        for file in files:\n",
    "            # remove the extension\n",
    "            file_name = os.path.splitext(file)[0]\n",
    "            lst.append(file_name)\n",
    "    return lst\n",
    "\n",
    "\n",
    "audio_text = r\"Data\\rawData\\Audio_text\""
   ]
  },
  {
   "cell_type": "code",
   "execution_count": 5,
   "metadata": {},
   "outputs": [
    {
     "name": "stdout",
     "output_type": "stream",
     "text": [
      "['Data\\\\PreporcessData\\\\Audio_key_text\\\\L01_V001\\\\001.txt', 'Data\\\\PreporcessData\\\\Audio_key_text\\\\L01_V001\\\\002.txt', 'Data\\\\PreporcessData\\\\Audio_key_text\\\\L01_V001\\\\003.txt', 'Data\\\\PreporcessData\\\\Audio_key_text\\\\L01_V001\\\\004.txt', 'Data\\\\PreporcessData\\\\Audio_key_text\\\\L01_V001\\\\005.txt', 'Data\\\\PreporcessData\\\\Audio_key_text\\\\L01_V001\\\\006.txt', 'Data\\\\PreporcessData\\\\Audio_key_text\\\\L01_V001\\\\007.txt', 'Data\\\\PreporcessData\\\\Audio_key_text\\\\L01_V001\\\\008.txt', 'Data\\\\PreporcessData\\\\Audio_key_text\\\\L01_V001\\\\009.txt', 'Data\\\\PreporcessData\\\\Audio_key_text\\\\L01_V001\\\\010.txt', 'Data\\\\PreporcessData\\\\Audio_key_text\\\\L01_V001\\\\011.txt', 'Data\\\\PreporcessData\\\\Audio_key_text\\\\L01_V001\\\\012.txt', 'Data\\\\PreporcessData\\\\Audio_key_text\\\\L01_V001\\\\013.txt', 'Data\\\\PreporcessData\\\\Audio_key_text\\\\L01_V001\\\\014.txt', 'Data\\\\PreporcessData\\\\Audio_key_text\\\\L01_V001\\\\015.txt', 'Data\\\\PreporcessData\\\\Audio_key_text\\\\L01_V001\\\\016.txt', 'Data\\\\PreporcessData\\\\Audio_key_text\\\\L01_V001\\\\017.txt', 'Data\\\\PreporcessData\\\\Audio_key_text\\\\L01_V001\\\\018.txt', 'Data\\\\PreporcessData\\\\Audio_key_text\\\\L01_V001\\\\019.txt', 'Data\\\\PreporcessData\\\\Audio_key_text\\\\L01_V001\\\\020.txt', 'Data\\\\PreporcessData\\\\Audio_key_text\\\\L01_V001\\\\021.txt', 'Data\\\\PreporcessData\\\\Audio_key_text\\\\L01_V001\\\\022.txt', 'Data\\\\PreporcessData\\\\Audio_key_text\\\\L01_V001\\\\023.txt', 'Data\\\\PreporcessData\\\\Audio_key_text\\\\L01_V001\\\\024.txt', 'Data\\\\PreporcessData\\\\Audio_key_text\\\\L01_V001\\\\025.txt', 'Data\\\\PreporcessData\\\\Audio_key_text\\\\L01_V001\\\\026.txt', 'Data\\\\PreporcessData\\\\Audio_key_text\\\\L01_V001\\\\027.txt', 'Data\\\\PreporcessData\\\\Audio_key_text\\\\L01_V001\\\\028.txt', 'Data\\\\PreporcessData\\\\Audio_key_text\\\\L01_V001\\\\029.txt', 'Data\\\\PreporcessData\\\\Audio_key_text\\\\L01_V001\\\\030.txt', 'Data\\\\PreporcessData\\\\Audio_key_text\\\\L01_V001\\\\031.txt', 'Data\\\\PreporcessData\\\\Audio_key_text\\\\L01_V001\\\\032.txt', 'Data\\\\PreporcessData\\\\Audio_key_text\\\\L01_V001\\\\033.txt', 'Data\\\\PreporcessData\\\\Audio_key_text\\\\L01_V001\\\\034.txt', 'Data\\\\PreporcessData\\\\Audio_key_text\\\\L01_V001\\\\035.txt', 'Data\\\\PreporcessData\\\\Audio_key_text\\\\L01_V001\\\\036.txt', 'Data\\\\PreporcessData\\\\Audio_key_text\\\\L01_V001\\\\037.txt', 'Data\\\\PreporcessData\\\\Audio_key_text\\\\L01_V001\\\\038.txt', 'Data\\\\PreporcessData\\\\Audio_key_text\\\\L01_V001\\\\039.txt', 'Data\\\\PreporcessData\\\\Audio_key_text\\\\L01_V001\\\\040.txt', 'Data\\\\PreporcessData\\\\Audio_key_text\\\\L01_V001\\\\041.txt', 'Data\\\\PreporcessData\\\\Audio_key_text\\\\L01_V001\\\\042.txt', 'Data\\\\PreporcessData\\\\Audio_key_text\\\\L01_V001\\\\043.txt', 'Data\\\\PreporcessData\\\\Audio_key_text\\\\L01_V001\\\\044.txt', 'Data\\\\PreporcessData\\\\Audio_key_text\\\\L01_V001\\\\045.txt', 'Data\\\\PreporcessData\\\\Audio_key_text\\\\L01_V001\\\\046.txt', 'Data\\\\PreporcessData\\\\Audio_key_text\\\\L01_V001\\\\047.txt', 'Data\\\\PreporcessData\\\\Audio_key_text\\\\L01_V001\\\\048.txt', 'Data\\\\PreporcessData\\\\Audio_key_text\\\\L01_V001\\\\049.txt', 'Data\\\\PreporcessData\\\\Audio_key_text\\\\L01_V001\\\\050.txt', 'Data\\\\PreporcessData\\\\Audio_key_text\\\\L01_V001\\\\051.txt', 'Data\\\\PreporcessData\\\\Audio_key_text\\\\L01_V001\\\\052.txt', 'Data\\\\PreporcessData\\\\Audio_key_text\\\\L01_V001\\\\053.txt', 'Data\\\\PreporcessData\\\\Audio_key_text\\\\L01_V001\\\\054.txt', 'Data\\\\PreporcessData\\\\Audio_key_text\\\\L01_V001\\\\055.txt', 'Data\\\\PreporcessData\\\\Audio_key_text\\\\L01_V001\\\\056.txt', 'Data\\\\PreporcessData\\\\Audio_key_text\\\\L01_V001\\\\057.txt', 'Data\\\\PreporcessData\\\\Audio_key_text\\\\L01_V001\\\\058.txt', 'Data\\\\PreporcessData\\\\Audio_key_text\\\\L01_V001\\\\059.txt', 'Data\\\\PreporcessData\\\\Audio_key_text\\\\L01_V001\\\\060.txt', 'Data\\\\PreporcessData\\\\Audio_key_text\\\\L01_V001\\\\061.txt', 'Data\\\\PreporcessData\\\\Audio_key_text\\\\L01_V001\\\\062.txt', 'Data\\\\PreporcessData\\\\Audio_key_text\\\\L01_V001\\\\063.txt', 'Data\\\\PreporcessData\\\\Audio_key_text\\\\L01_V001\\\\064.txt', 'Data\\\\PreporcessData\\\\Audio_key_text\\\\L01_V001\\\\065.txt', 'Data\\\\PreporcessData\\\\Audio_key_text\\\\L01_V001\\\\066.txt', 'Data\\\\PreporcessData\\\\Audio_key_text\\\\L01_V001\\\\067.txt', 'Data\\\\PreporcessData\\\\Audio_key_text\\\\L01_V001\\\\068.txt', 'Data\\\\PreporcessData\\\\Audio_key_text\\\\L01_V001\\\\069.txt', 'Data\\\\PreporcessData\\\\Audio_key_text\\\\L01_V001\\\\070.txt', 'Data\\\\PreporcessData\\\\Audio_key_text\\\\L01_V001\\\\071.txt', 'Data\\\\PreporcessData\\\\Audio_key_text\\\\L01_V001\\\\072.txt', 'Data\\\\PreporcessData\\\\Audio_key_text\\\\L01_V001\\\\073.txt', 'Data\\\\PreporcessData\\\\Audio_key_text\\\\L01_V001\\\\074.txt', 'Data\\\\PreporcessData\\\\Audio_key_text\\\\L01_V001\\\\075.txt', 'Data\\\\PreporcessData\\\\Audio_key_text\\\\L01_V001\\\\076.txt', 'Data\\\\PreporcessData\\\\Audio_key_text\\\\L01_V001\\\\077.txt', 'Data\\\\PreporcessData\\\\Audio_key_text\\\\L01_V001\\\\078.txt', 'Data\\\\PreporcessData\\\\Audio_key_text\\\\L01_V001\\\\079.txt', 'Data\\\\PreporcessData\\\\Audio_key_text\\\\L01_V001\\\\080.txt', 'Data\\\\PreporcessData\\\\Audio_key_text\\\\L01_V001\\\\081.txt', 'Data\\\\PreporcessData\\\\Audio_key_text\\\\L01_V001\\\\082.txt', 'Data\\\\PreporcessData\\\\Audio_key_text\\\\L01_V001\\\\083.txt', 'Data\\\\PreporcessData\\\\Audio_key_text\\\\L01_V001\\\\084.txt', 'Data\\\\PreporcessData\\\\Audio_key_text\\\\L01_V001\\\\085.txt', 'Data\\\\PreporcessData\\\\Audio_key_text\\\\L01_V001\\\\086.txt', 'Data\\\\PreporcessData\\\\Audio_key_text\\\\L01_V001\\\\087.txt', 'Data\\\\PreporcessData\\\\Audio_key_text\\\\L01_V001\\\\088.txt', 'Data\\\\PreporcessData\\\\Audio_key_text\\\\L01_V001\\\\089.txt', 'Data\\\\PreporcessData\\\\Audio_key_text\\\\L01_V001\\\\090.txt', 'Data\\\\PreporcessData\\\\Audio_key_text\\\\L01_V001\\\\091.txt', 'Data\\\\PreporcessData\\\\Audio_key_text\\\\L01_V001\\\\092.txt', 'Data\\\\PreporcessData\\\\Audio_key_text\\\\L01_V001\\\\093.txt', 'Data\\\\PreporcessData\\\\Audio_key_text\\\\L01_V001\\\\094.txt', 'Data\\\\PreporcessData\\\\Audio_key_text\\\\L01_V001\\\\095.txt', 'Data\\\\PreporcessData\\\\Audio_key_text\\\\L01_V001\\\\096.txt', 'Data\\\\PreporcessData\\\\Audio_key_text\\\\L01_V001\\\\097.txt', 'Data\\\\PreporcessData\\\\Audio_key_text\\\\L01_V001\\\\098.txt', 'Data\\\\PreporcessData\\\\Audio_key_text\\\\L01_V001\\\\099.txt', 'Data\\\\PreporcessData\\\\Audio_key_text\\\\L01_V001\\\\100.txt', 'Data\\\\PreporcessData\\\\Audio_key_text\\\\L01_V001\\\\101.txt', 'Data\\\\PreporcessData\\\\Audio_key_text\\\\L01_V001\\\\102.txt', 'Data\\\\PreporcessData\\\\Audio_key_text\\\\L01_V001\\\\103.txt', 'Data\\\\PreporcessData\\\\Audio_key_text\\\\L01_V001\\\\104.txt', 'Data\\\\PreporcessData\\\\Audio_key_text\\\\L01_V001\\\\105.txt', 'Data\\\\PreporcessData\\\\Audio_key_text\\\\L01_V001\\\\106.txt', 'Data\\\\PreporcessData\\\\Audio_key_text\\\\L01_V001\\\\107.txt', 'Data\\\\PreporcessData\\\\Audio_key_text\\\\L01_V001\\\\108.txt', 'Data\\\\PreporcessData\\\\Audio_key_text\\\\L01_V001\\\\109.txt', 'Data\\\\PreporcessData\\\\Audio_key_text\\\\L01_V001\\\\110.txt', 'Data\\\\PreporcessData\\\\Audio_key_text\\\\L01_V001\\\\111.txt', 'Data\\\\PreporcessData\\\\Audio_key_text\\\\L01_V001\\\\112.txt', 'Data\\\\PreporcessData\\\\Audio_key_text\\\\L01_V001\\\\113.txt', 'Data\\\\PreporcessData\\\\Audio_key_text\\\\L01_V001\\\\114.txt', 'Data\\\\PreporcessData\\\\Audio_key_text\\\\L01_V001\\\\115.txt', 'Data\\\\PreporcessData\\\\Audio_key_text\\\\L01_V001\\\\116.txt', 'Data\\\\PreporcessData\\\\Audio_key_text\\\\L01_V001\\\\117.txt', 'Data\\\\PreporcessData\\\\Audio_key_text\\\\L01_V001\\\\118.txt', 'Data\\\\PreporcessData\\\\Audio_key_text\\\\L01_V001\\\\119.txt', 'Data\\\\PreporcessData\\\\Audio_key_text\\\\L01_V001\\\\120.txt', 'Data\\\\PreporcessData\\\\Audio_key_text\\\\L01_V001\\\\121.txt', 'Data\\\\PreporcessData\\\\Audio_key_text\\\\L01_V001\\\\122.txt', 'Data\\\\PreporcessData\\\\Audio_key_text\\\\L01_V001\\\\123.txt', 'Data\\\\PreporcessData\\\\Audio_key_text\\\\L01_V001\\\\124.txt', 'Data\\\\PreporcessData\\\\Audio_key_text\\\\L01_V001\\\\125.txt', 'Data\\\\PreporcessData\\\\Audio_key_text\\\\L01_V001\\\\126.txt', 'Data\\\\PreporcessData\\\\Audio_key_text\\\\L01_V001\\\\127.txt', 'Data\\\\PreporcessData\\\\Audio_key_text\\\\L01_V001\\\\128.txt', 'Data\\\\PreporcessData\\\\Audio_key_text\\\\L01_V001\\\\129.txt', 'Data\\\\PreporcessData\\\\Audio_key_text\\\\L01_V001\\\\130.txt', 'Data\\\\PreporcessData\\\\Audio_key_text\\\\L01_V001\\\\131.txt', 'Data\\\\PreporcessData\\\\Audio_key_text\\\\L01_V001\\\\132.txt', 'Data\\\\PreporcessData\\\\Audio_key_text\\\\L01_V001\\\\133.txt', 'Data\\\\PreporcessData\\\\Audio_key_text\\\\L01_V001\\\\134.txt', 'Data\\\\PreporcessData\\\\Audio_key_text\\\\L01_V001\\\\135.txt', 'Data\\\\PreporcessData\\\\Audio_key_text\\\\L01_V001\\\\136.txt', 'Data\\\\PreporcessData\\\\Audio_key_text\\\\L01_V001\\\\137.txt', 'Data\\\\PreporcessData\\\\Audio_key_text\\\\L01_V001\\\\138.txt', 'Data\\\\PreporcessData\\\\Audio_key_text\\\\L01_V001\\\\139.txt', 'Data\\\\PreporcessData\\\\Audio_key_text\\\\L01_V001\\\\140.txt', 'Data\\\\PreporcessData\\\\Audio_key_text\\\\L01_V001\\\\141.txt', 'Data\\\\PreporcessData\\\\Audio_key_text\\\\L01_V001\\\\142.txt', 'Data\\\\PreporcessData\\\\Audio_key_text\\\\L01_V001\\\\143.txt', 'Data\\\\PreporcessData\\\\Audio_key_text\\\\L01_V001\\\\144.txt', 'Data\\\\PreporcessData\\\\Audio_key_text\\\\L01_V001\\\\145.txt', 'Data\\\\PreporcessData\\\\Audio_key_text\\\\L01_V001\\\\146.txt', 'Data\\\\PreporcessData\\\\Audio_key_text\\\\L01_V001\\\\147.txt', 'Data\\\\PreporcessData\\\\Audio_key_text\\\\L01_V001\\\\148.txt', 'Data\\\\PreporcessData\\\\Audio_key_text\\\\L01_V001\\\\149.txt', 'Data\\\\PreporcessData\\\\Audio_key_text\\\\L01_V001\\\\150.txt', 'Data\\\\PreporcessData\\\\Audio_key_text\\\\L01_V001\\\\151.txt', 'Data\\\\PreporcessData\\\\Audio_key_text\\\\L01_V001\\\\152.txt', 'Data\\\\PreporcessData\\\\Audio_key_text\\\\L01_V001\\\\153.txt', 'Data\\\\PreporcessData\\\\Audio_key_text\\\\L01_V001\\\\154.txt', 'Data\\\\PreporcessData\\\\Audio_key_text\\\\L01_V001\\\\155.txt', 'Data\\\\PreporcessData\\\\Audio_key_text\\\\L01_V001\\\\156.txt', 'Data\\\\PreporcessData\\\\Audio_key_text\\\\L01_V001\\\\157.txt', 'Data\\\\PreporcessData\\\\Audio_key_text\\\\L01_V001\\\\158.txt', 'Data\\\\PreporcessData\\\\Audio_key_text\\\\L01_V001\\\\159.txt', 'Data\\\\PreporcessData\\\\Audio_key_text\\\\L01_V001\\\\160.txt', 'Data\\\\PreporcessData\\\\Audio_key_text\\\\L01_V001\\\\161.txt', 'Data\\\\PreporcessData\\\\Audio_key_text\\\\L01_V001\\\\162.txt', 'Data\\\\PreporcessData\\\\Audio_key_text\\\\L01_V001\\\\163.txt', 'Data\\\\PreporcessData\\\\Audio_key_text\\\\L01_V001\\\\164.txt', 'Data\\\\PreporcessData\\\\Audio_key_text\\\\L01_V001\\\\165.txt', 'Data\\\\PreporcessData\\\\Audio_key_text\\\\L01_V001\\\\166.txt', 'Data\\\\PreporcessData\\\\Audio_key_text\\\\L01_V001\\\\167.txt', 'Data\\\\PreporcessData\\\\Audio_key_text\\\\L01_V001\\\\168.txt', 'Data\\\\PreporcessData\\\\Audio_key_text\\\\L01_V001\\\\169.txt', 'Data\\\\PreporcessData\\\\Audio_key_text\\\\L01_V001\\\\170.txt', 'Data\\\\PreporcessData\\\\Audio_key_text\\\\L01_V001\\\\171.txt', 'Data\\\\PreporcessData\\\\Audio_key_text\\\\L01_V001\\\\172.txt', 'Data\\\\PreporcessData\\\\Audio_key_text\\\\L01_V001\\\\173.txt', 'Data\\\\PreporcessData\\\\Audio_key_text\\\\L01_V001\\\\174.txt', 'Data\\\\PreporcessData\\\\Audio_key_text\\\\L01_V001\\\\175.txt', 'Data\\\\PreporcessData\\\\Audio_key_text\\\\L01_V001\\\\176.txt', 'Data\\\\PreporcessData\\\\Audio_key_text\\\\L01_V001\\\\177.txt', 'Data\\\\PreporcessData\\\\Audio_key_text\\\\L01_V001\\\\178.txt', 'Data\\\\PreporcessData\\\\Audio_key_text\\\\L01_V001\\\\179.txt', 'Data\\\\PreporcessData\\\\Audio_key_text\\\\L01_V001\\\\180.txt', 'Data\\\\PreporcessData\\\\Audio_key_text\\\\L01_V001\\\\181.txt', 'Data\\\\PreporcessData\\\\Audio_key_text\\\\L01_V001\\\\182.txt', 'Data\\\\PreporcessData\\\\Audio_key_text\\\\L01_V001\\\\183.txt', 'Data\\\\PreporcessData\\\\Audio_key_text\\\\L01_V001\\\\184.txt', 'Data\\\\PreporcessData\\\\Audio_key_text\\\\L01_V001\\\\185.txt', 'Data\\\\PreporcessData\\\\Audio_key_text\\\\L01_V001\\\\186.txt', 'Data\\\\PreporcessData\\\\Audio_key_text\\\\L01_V001\\\\187.txt', 'Data\\\\PreporcessData\\\\Audio_key_text\\\\L01_V001\\\\188.txt', 'Data\\\\PreporcessData\\\\Audio_key_text\\\\L01_V001\\\\189.txt', 'Data\\\\PreporcessData\\\\Audio_key_text\\\\L01_V001\\\\190.txt', 'Data\\\\PreporcessData\\\\Audio_key_text\\\\L01_V001\\\\191.txt', 'Data\\\\PreporcessData\\\\Audio_key_text\\\\L01_V001\\\\192.txt', 'Data\\\\PreporcessData\\\\Audio_key_text\\\\L01_V001\\\\193.txt', 'Data\\\\PreporcessData\\\\Audio_key_text\\\\L01_V001\\\\194.txt', 'Data\\\\PreporcessData\\\\Audio_key_text\\\\L01_V001\\\\195.txt', 'Data\\\\PreporcessData\\\\Audio_key_text\\\\L01_V001\\\\196.txt', 'Data\\\\PreporcessData\\\\Audio_key_text\\\\L01_V001\\\\197.txt', 'Data\\\\PreporcessData\\\\Audio_key_text\\\\L01_V001\\\\198.txt', 'Data\\\\PreporcessData\\\\Audio_key_text\\\\L01_V001\\\\199.txt', 'Data\\\\PreporcessData\\\\Audio_key_text\\\\L01_V001\\\\200.txt', 'Data\\\\PreporcessData\\\\Audio_key_text\\\\L01_V001\\\\201.txt', 'Data\\\\PreporcessData\\\\Audio_key_text\\\\L01_V001\\\\202.txt', 'Data\\\\PreporcessData\\\\Audio_key_text\\\\L01_V001\\\\203.txt', 'Data\\\\PreporcessData\\\\Audio_key_text\\\\L01_V001\\\\204.txt', 'Data\\\\PreporcessData\\\\Audio_key_text\\\\L01_V001\\\\205.txt', 'Data\\\\PreporcessData\\\\Audio_key_text\\\\L01_V001\\\\206.txt', 'Data\\\\PreporcessData\\\\Audio_key_text\\\\L01_V001\\\\207.txt', 'Data\\\\PreporcessData\\\\Audio_key_text\\\\L01_V001\\\\208.txt', 'Data\\\\PreporcessData\\\\Audio_key_text\\\\L01_V001\\\\209.txt', 'Data\\\\PreporcessData\\\\Audio_key_text\\\\L01_V001\\\\210.txt', 'Data\\\\PreporcessData\\\\Audio_key_text\\\\L01_V001\\\\211.txt', 'Data\\\\PreporcessData\\\\Audio_key_text\\\\L01_V001\\\\212.txt', 'Data\\\\PreporcessData\\\\Audio_key_text\\\\L01_V001\\\\213.txt', 'Data\\\\PreporcessData\\\\Audio_key_text\\\\L01_V001\\\\214.txt', 'Data\\\\PreporcessData\\\\Audio_key_text\\\\L01_V001\\\\215.txt', 'Data\\\\PreporcessData\\\\Audio_key_text\\\\L01_V001\\\\216.txt', 'Data\\\\PreporcessData\\\\Audio_key_text\\\\L01_V001\\\\217.txt', 'Data\\\\PreporcessData\\\\Audio_key_text\\\\L01_V001\\\\218.txt', 'Data\\\\PreporcessData\\\\Audio_key_text\\\\L01_V001\\\\219.txt', 'Data\\\\PreporcessData\\\\Audio_key_text\\\\L01_V001\\\\220.txt', 'Data\\\\PreporcessData\\\\Audio_key_text\\\\L01_V001\\\\221.txt', 'Data\\\\PreporcessData\\\\Audio_key_text\\\\L01_V001\\\\222.txt', 'Data\\\\PreporcessData\\\\Audio_key_text\\\\L01_V001\\\\223.txt', 'Data\\\\PreporcessData\\\\Audio_key_text\\\\L01_V001\\\\224.txt', 'Data\\\\PreporcessData\\\\Audio_key_text\\\\L01_V001\\\\225.txt', 'Data\\\\PreporcessData\\\\Audio_key_text\\\\L01_V001\\\\226.txt', 'Data\\\\PreporcessData\\\\Audio_key_text\\\\L01_V001\\\\227.txt', 'Data\\\\PreporcessData\\\\Audio_key_text\\\\L01_V001\\\\228.txt', 'Data\\\\PreporcessData\\\\Audio_key_text\\\\L01_V001\\\\229.txt', 'Data\\\\PreporcessData\\\\Audio_key_text\\\\L01_V001\\\\230.txt', 'Data\\\\PreporcessData\\\\Audio_key_text\\\\L01_V001\\\\231.txt', 'Data\\\\PreporcessData\\\\Audio_key_text\\\\L01_V001\\\\232.txt', 'Data\\\\PreporcessData\\\\Audio_key_text\\\\L01_V001\\\\233.txt', 'Data\\\\PreporcessData\\\\Audio_key_text\\\\L01_V001\\\\234.txt', 'Data\\\\PreporcessData\\\\Audio_key_text\\\\L01_V001\\\\235.txt', 'Data\\\\PreporcessData\\\\Audio_key_text\\\\L01_V001\\\\236.txt', 'Data\\\\PreporcessData\\\\Audio_key_text\\\\L01_V001\\\\237.txt', 'Data\\\\PreporcessData\\\\Audio_key_text\\\\L01_V001\\\\238.txt', 'Data\\\\PreporcessData\\\\Audio_key_text\\\\L01_V001\\\\239.txt', 'Data\\\\PreporcessData\\\\Audio_key_text\\\\L01_V001\\\\240.txt', 'Data\\\\PreporcessData\\\\Audio_key_text\\\\L01_V001\\\\241.txt', 'Data\\\\PreporcessData\\\\Audio_key_text\\\\L01_V001\\\\242.txt', 'Data\\\\PreporcessData\\\\Audio_key_text\\\\L01_V001\\\\243.txt', 'Data\\\\PreporcessData\\\\Audio_key_text\\\\L01_V001\\\\244.txt', 'Data\\\\PreporcessData\\\\Audio_key_text\\\\L01_V001\\\\245.txt', 'Data\\\\PreporcessData\\\\Audio_key_text\\\\L01_V001\\\\246.txt', 'Data\\\\PreporcessData\\\\Audio_key_text\\\\L01_V001\\\\247.txt', 'Data\\\\PreporcessData\\\\Audio_key_text\\\\L01_V001\\\\248.txt', 'Data\\\\PreporcessData\\\\Audio_key_text\\\\L01_V001\\\\249.txt', 'Data\\\\PreporcessData\\\\Audio_key_text\\\\L01_V001\\\\250.txt', 'Data\\\\PreporcessData\\\\Audio_key_text\\\\L01_V001\\\\251.txt', 'Data\\\\PreporcessData\\\\Audio_key_text\\\\L01_V001\\\\252.txt', 'Data\\\\PreporcessData\\\\Audio_key_text\\\\L01_V001\\\\253.txt', 'Data\\\\PreporcessData\\\\Audio_key_text\\\\L01_V001\\\\254.txt', 'Data\\\\PreporcessData\\\\Audio_key_text\\\\L01_V001\\\\255.txt', 'Data\\\\PreporcessData\\\\Audio_key_text\\\\L01_V001\\\\256.txt', 'Data\\\\PreporcessData\\\\Audio_key_text\\\\L01_V001\\\\257.txt', 'Data\\\\PreporcessData\\\\Audio_key_text\\\\L01_V001\\\\258.txt', 'Data\\\\PreporcessData\\\\Audio_key_text\\\\L01_V001\\\\259.txt', 'Data\\\\PreporcessData\\\\Audio_key_text\\\\L01_V001\\\\260.txt', 'Data\\\\PreporcessData\\\\Audio_key_text\\\\L01_V001\\\\261.txt', 'Data\\\\PreporcessData\\\\Audio_key_text\\\\L01_V001\\\\262.txt', 'Data\\\\PreporcessData\\\\Audio_key_text\\\\L01_V001\\\\263.txt', 'Data\\\\PreporcessData\\\\Audio_key_text\\\\L01_V001\\\\264.txt', 'Data\\\\PreporcessData\\\\Audio_key_text\\\\L01_V001\\\\265.txt', 'Data\\\\PreporcessData\\\\Audio_key_text\\\\L01_V001\\\\266.txt', 'Data\\\\PreporcessData\\\\Audio_key_text\\\\L01_V001\\\\267.txt', 'Data\\\\PreporcessData\\\\Audio_key_text\\\\L01_V001\\\\268.txt', 'Data\\\\PreporcessData\\\\Audio_key_text\\\\L01_V001\\\\269.txt', 'Data\\\\PreporcessData\\\\Audio_key_text\\\\L01_V001\\\\270.txt', 'Data\\\\PreporcessData\\\\Audio_key_text\\\\L01_V001\\\\271.txt', 'Data\\\\PreporcessData\\\\Audio_key_text\\\\L01_V001\\\\272.txt']\n",
      "['L01_V001', 'L01_V002', 'L01_V003', 'L01_V004', 'L01_V005', 'L01_V006', 'L01_V007', 'L01_V008', 'L01_V009', 'L01_V010', 'L01_V011', 'L01_V012', 'L01_V013', 'L01_V014', 'L01_V015', 'L01_V016', 'L01_V017', 'L01_V018', 'L01_V019', 'L01_V020', 'L01_V021', 'L01_V022', 'L01_V023', 'L01_V024', 'L01_V025', 'L01_V026', 'L01_V027', 'L01_V028', 'L01_V029', 'L01_V030', 'L01_V031', 'L02_V001', 'L02_V002', 'L02_V003', 'L02_V004', 'L02_V005', 'L02_V006', 'L02_V007', 'L02_V008', 'L02_V009', 'L02_V010', 'L02_V011', 'L02_V012', 'L02_V013', 'L02_V014', 'L02_V015', 'L02_V016', 'L02_V017', 'L02_V018', 'L02_V019', 'L02_V020', 'L02_V021', 'L02_V022', 'L02_V023', 'L02_V024', 'L02_V025', 'L02_V026', 'L02_V027', 'L02_V028', 'L02_V029', 'L02_V030', 'L02_V031', 'L03_V001', 'L03_V002', 'L03_V003', 'L03_V004', 'L03_V005', 'L03_V006', 'L03_V007', 'L03_V008', 'L03_V009', 'L03_V010', 'L03_V011', 'L03_V012', 'L03_V013', 'L03_V014', 'L03_V015', 'L03_V016', 'L03_V017', 'L03_V018', 'L03_V019', 'L03_V020', 'L03_V021', 'L03_V022', 'L03_V023', 'L03_V024', 'L03_V025', 'L03_V026', 'L03_V027', 'L03_V028', 'L03_V029', 'L03_V030', 'L04_V001', 'L04_V002', 'L04_V003', 'L04_V004', 'L04_V005', 'L04_V006', 'L04_V007', 'L04_V008', 'L04_V009', 'L04_V010', 'L04_V011', 'L04_V012', 'L04_V013', 'L04_V014', 'L04_V015', 'L04_V016', 'L04_V017', 'L04_V018', 'L04_V019', 'L04_V020', 'L04_V021', 'L04_V022', 'L04_V023', 'L04_V024', 'L04_V025', 'L04_V026', 'L04_V027', 'L04_V028', 'L04_V029', 'L04_V030', 'L05_V001', 'L05_V002', 'L05_V003', 'L05_V004', 'L05_V005', 'L05_V006', 'L05_V007', 'L05_V008', 'L05_V009', 'L05_V010', 'L05_V011', 'L05_V012', 'L05_V013', 'L05_V014', 'L05_V015', 'L05_V016', 'L05_V017', 'L05_V018', 'L05_V019', 'L05_V020', 'L05_V021', 'L05_V022', 'L05_V023', 'L05_V024', 'L05_V025', 'L05_V026', 'L05_V027', 'L05_V028', 'L05_V029', 'L05_V030', 'L05_V031', 'L06_V001', 'L06_V002', 'L06_V003', 'L06_V004', 'L06_V005', 'L06_V006', 'L06_V007', 'L06_V008', 'L06_V009', 'L06_V010', 'L06_V011', 'L06_V012', 'L06_V013', 'L06_V014', 'L06_V015', 'L06_V016', 'L06_V017', 'L06_V018', 'L06_V019', 'L06_V020', 'L06_V021', 'L06_V022', 'L06_V023', 'L06_V024', 'L06_V025', 'L06_V026', 'L06_V027', 'L06_V028', 'L06_V029', 'L06_V030', 'L06_V031', 'L07_V001', 'L07_V002', 'L07_V003', 'L07_V004', 'L07_V005', 'L07_V006', 'L07_V007', 'L07_V008', 'L07_V009', 'L07_V010', 'L07_V011', 'L07_V012', 'L07_V013', 'L07_V014', 'L07_V015', 'L07_V016', 'L07_V017', 'L07_V018', 'L07_V019', 'L07_V020', 'L07_V021', 'L07_V022', 'L07_V023', 'L07_V024', 'L07_V025', 'L07_V026', 'L07_V027', 'L07_V028', 'L07_V029', 'L07_V030', 'L07_V031', 'L08_V001', 'L08_V002', 'L08_V003', 'L08_V004', 'L08_V005', 'L08_V006', 'L08_V007', 'L08_V008', 'L08_V009', 'L08_V010', 'L08_V011', 'L08_V012', 'L08_V013', 'L08_V014', 'L08_V015', 'L08_V016', 'L08_V017', 'L08_V018', 'L08_V019', 'L08_V020', 'L08_V021', 'L08_V022', 'L08_V023', 'L08_V024', 'L08_V025', 'L08_V026', 'L08_V027', 'L08_V028', 'L08_V029', 'L08_V030', 'L09_V001', 'L09_V002', 'L09_V003', 'L09_V004', 'L09_V005', 'L09_V006', 'L09_V007', 'L09_V008', 'L09_V009', 'L09_V010', 'L09_V011', 'L09_V012', 'L09_V013', 'L09_V014', 'L09_V015', 'L09_V016', 'L09_V017', 'L09_V018', 'L09_V019', 'L09_V020', 'L09_V021', 'L09_V022', 'L09_V023', 'L09_V024', 'L09_V025', 'L09_V026', 'L09_V027', 'L09_V028', 'L09_V029', 'L10_V001', 'L10_V002', 'L10_V003', 'L10_V004', 'L10_V005', 'L10_V006', 'L10_V007', 'L10_V008', 'L10_V009', 'L10_V010', 'L10_V011', 'L10_V012', 'L10_V013', 'L10_V014', 'L10_V015', 'L10_V016', 'L10_V017', 'L10_V018', 'L10_V019', 'L10_V020', 'L10_V021', 'L10_V022', 'L10_V023', 'L10_V024', 'L10_V025', 'L10_V026', 'L10_V027', 'L10_V028', 'L10_V029', 'L11_V001', 'L11_V002', 'L11_V003', 'L11_V004', 'L11_V005', 'L11_V006', 'L11_V007', 'L11_V008', 'L11_V009', 'L11_V010', 'L11_V011', 'L11_V012', 'L11_V013', 'L11_V014', 'L11_V015', 'L11_V016', 'L11_V017', 'L11_V018', 'L11_V019', 'L11_V020', 'L11_V021', 'L11_V022', 'L11_V023', 'L11_V024', 'L11_V025', 'L11_V026', 'L11_V027', 'L11_V028', 'L11_V029', 'L11_V030', 'L12_V001', 'L12_V002', 'L12_V003', 'L12_V004', 'L12_V005', 'L12_V006', 'L12_V007', 'L12_V008', 'L12_V009', 'L12_V010', 'L12_V011', 'L12_V012', 'L12_V013', 'L12_V014', 'L12_V015', 'L12_V016', 'L12_V017', 'L12_V018', 'L12_V019', 'L12_V020', 'L12_V021', 'L12_V022', 'L12_V023', 'L12_V024', 'L12_V025', 'L12_V026', 'L12_V027', 'L12_V028', 'L12_V029', 'L12_V030']\n"
     ]
    }
   ],
   "source": [
    "path_lst = scan_file_path_in_folder(\"Data\\\\PreporcessData\\\\Audio_key_text\\\\L01_V001\")\n",
    "name_lst = scan_file_name_in_folder(audio_text)\n",
    "print(path_lst)\n",
    "print(name_lst)"
   ]
  },
  {
   "cell_type": "code",
   "execution_count": 6,
   "metadata": {},
   "outputs": [],
   "source": [
    "# path_lst = scan_file_path_in_folder(audio_text)\n",
    "# name_lst = scan_file_name_in_folder(audio_text)"
   ]
  },
  {
   "cell_type": "code",
   "execution_count": 7,
   "metadata": {},
   "outputs": [],
   "source": [
    "# path = \"Data\\\\PreporcessData\\\\keyframes_ImageCaption\"\n",
    "# path_lst = scan_file_path_in_folder(path)\n",
    "# name_lst = scan_file_name_in_folder(path)\n",
    "# print(path_lst)\n",
    "# print(name_lst)"
   ]
  },
  {
   "cell_type": "code",
   "execution_count": 8,
   "metadata": {},
   "outputs": [],
   "source": [
    "# for path, name in tqdm(zip(path_lst, name_lst)):\n",
    "#     out = f\"Data\\PreporcessData\\keyframes_ImageCaption_bartpho\\{name}.pt\"\n",
    "#     # check if the file is already processed\n",
    "#     if os.path.exists(out):\n",
    "#         continue\n",
    "#     # read text\n",
    "#     with open(path, \"r\", encoding=\"utf-8\") as f:\n",
    "#         text = f.read()\n",
    "#     # join text\n",
    "#     text = Word_Segmentation(text)\n",
    "#     # remove every '.', ',', '!', '?'\n",
    "#     text = text.replace(\".\", \" \").replace(\",\", \" \").replace(\"!\", \" \").replace(\"?\", \" \")\n",
    "#     # clean ' 'ArithmeticError\n",
    "#     text = \" \".join(text.split())\n",
    "#     text = text.split(\" \")\n",
    "#     num_chunks = (len(text) + Fixed_Length - 1) // Fixed_Length\n",
    "#     max_len_each_chunk = (len(text) + num_chunks - 1) // num_chunks\n",
    "#     lst_text = []\n",
    "#     for i in range(0, len(text), max_len_each_chunk):\n",
    "#         lst_text.append([\" \".join(text[i : i + max_len_each_chunk])])\n",
    "#     lst_ids = [\n",
    "#         word_tokenizer.encode(\n",
    "#             i[0],\n",
    "#             return_tensors=\"pt\",\n",
    "#             padding=\"max_length\",\n",
    "#             max_length=max_len_each_chunk,\n",
    "#             truncation=True,\n",
    "#             add_special_tokens=False,\n",
    "#         ).to(\"cuda\")\n",
    "#         for i in lst_text\n",
    "#     ]\n",
    "#     with torch.no_grad():\n",
    "#         # check if input_ids is in cuda\n",
    "#         lst_outputs = [bartpho_word(i) for i in lst_ids]\n",
    "#         lst_features = [i.last_hidden_state[0] for i in lst_outputs]\n",
    "#         # stack all features to a tensor\n",
    "#         features = torch.stack(lst_features)\n",
    "#     # save features\n",
    "#     torch.save(features, out)"
   ]
  },
  {
   "cell_type": "code",
   "execution_count": 9,
   "metadata": {},
   "outputs": [
    {
     "name": "stderr",
     "output_type": "stream",
     "text": [
      "100%|██████████| 363/363 [21:38<00:00,  3.58s/it]\n"
     ]
    }
   ],
   "source": [
    "for name in tqdm(name_lst):\n",
    "    path_lst = scan_file_path_in_folder(f\"Data\\\\PreporcessData\\\\Audio_key_text\\\\{name}\")\n",
    "    sub_name_lst = scan_file_name_in_folder(\n",
    "        f\"Data\\\\PreporcessData\\\\Audio_key_text\\\\{name}\"\n",
    "    )\n",
    "    for path, sub_name in zip(path_lst, sub_name_lst):\n",
    "        out_path = f\"Data\\\\PreporcessData\\\\Audio_key_text_bartpho\\\\{name}_{sub_name}.pt\"\n",
    "        # check if the file is already exist\n",
    "        if os.path.exists(out_path):\n",
    "            continue\n",
    "        # read text\n",
    "        with open(path, \"r\", encoding=\"utf-8\") as f:\n",
    "            text = f.read()\n",
    "        # join text\n",
    "        text = Word_Segmentation(text)\n",
    "        # remove every '.', ',', '!', '?'\n",
    "        text = (\n",
    "            text.replace(\".\", \" \").replace(\",\", \" \").replace(\"!\", \" \").replace(\"?\", \" \")\n",
    "        )\n",
    "        # clean ' 'ArithmeticError\n",
    "        text = \" \".join(text.split())\n",
    "        # split the text into multiple parts with at most 40 words\n",
    "        text = text.split(\" \")\n",
    "        num_chunks = (len(text) + Fixed_Length - 1) // Fixed_Length\n",
    "        max_len_each_chunk = (len(text) + num_chunks - 1) // num_chunks\n",
    "        # if (len(text) < 5):\n",
    "        #     continue\n",
    "        lst_text = []\n",
    "        for i in range(0, len(text), max_len_each_chunk):\n",
    "            lst_text.append([\" \".join(text[i : i + max_len_each_chunk])])\n",
    "        lst_ids = [\n",
    "            word_tokenizer.encode(\n",
    "                i[0],\n",
    "                return_tensors=\"pt\",\n",
    "                padding=\"max_length\",\n",
    "                max_length=max_len_each_chunk,\n",
    "                truncation=True,\n",
    "                add_special_tokens=False,\n",
    "            ).to(\"cuda\")\n",
    "            for i in lst_text\n",
    "        ]\n",
    "        with torch.no_grad():\n",
    "            # check if input_ids is in cuda\n",
    "            lst_outputs = [bartpho_word(i) for i in lst_ids]\n",
    "            lst_features = [i.last_hidden_state[0] for i in lst_outputs]\n",
    "            # stack all features to a tensor\n",
    "            features = torch.stack(lst_features)\n",
    "        # save features\n",
    "        torch.save(features, out_path)"
   ]
  },
  {
   "cell_type": "code",
   "execution_count": 10,
   "metadata": {},
   "outputs": [],
   "source": [
    "\n",
    "# for path, name in tqdm(zip(path_lst, name_lst)):\n",
    "#     # read text\n",
    "#     with open(path, \"r\", encoding=\"utf-8\") as f:\n",
    "#         text = f.read()\n",
    "#     # join text\n",
    "#     text = Word_Segmentation(text)\n",
    "#     # remove every '.', ',', '!', '?'\n",
    "#     text = text.replace(\".\", \" \").replace(\",\", \" \").replace(\"!\", \" \").replace(\"?\", \" \")\n",
    "#     # clean ' 'ArithmeticError\n",
    "#     text = \" \".join(text.split())\n",
    "#     # write text\n",
    "#     with open(\n",
    "#         f\"Data\\PreporcessData\\Audio_text_wseg\\{name}.txt\", \"w\", encoding=\"utf-8\"\n",
    "#     ) as f:\n",
    "#         # write to each line\n",
    "#         f.write(text)\n",
    "#     # split the text into multiple parts with at most 40 words\n",
    "#     text = text.split(\" \")\n",
    "#     lst_text = []\n",
    "#     for i in range(0, len(text), 40):\n",
    "#         lst_text.append([\" \".join(text[i : i + 40])])\n",
    "#     lst_ids = [\n",
    "#         word_tokenizer.encode(\n",
    "#             i[0],\n",
    "#             return_tensors=\"pt\",\n",
    "#             padding=\"max_length\",\n",
    "#             max_length=50,\n",
    "#             truncation=True,\n",
    "#         ).to(\"cuda\")\n",
    "#         for i in lst_text\n",
    "#     ]\n",
    "#     with torch.no_grad():\n",
    "#         # check if input_ids is in cuda\n",
    "#         lst_outputs = [bartpho_word(i) for i in lst_ids]\n",
    "#         lst_features = [i.last_hidden_state[0] for i in lst_outputs]\n",
    "#         # stack all features to a tensor\n",
    "#         features = torch.stack(lst_features)\n",
    "#     # save features\n",
    "#     torch.save(features, f\"Data\\PreporcessData\\Audio_text_bartpho\\{name}.pt\")"
   ]
  }
 ],
 "metadata": {
  "kernelspec": {
   "display_name": "venv",
   "language": "python",
   "name": "python3"
  },
  "language_info": {
   "codemirror_mode": {
    "name": "ipython",
    "version": 3
   },
   "file_extension": ".py",
   "mimetype": "text/x-python",
   "name": "python",
   "nbconvert_exporter": "python",
   "pygments_lexer": "ipython3",
   "version": "3.11.9"
  }
 },
 "nbformat": 4,
 "nbformat_minor": 2
}

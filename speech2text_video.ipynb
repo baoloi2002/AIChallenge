{
 "cells": [
  {
   "cell_type": "code",
   "execution_count": 1,
   "metadata": {},
   "outputs": [],
   "source": [
    "from tqdm import tqdm"
   ]
  },
  {
   "cell_type": "markdown",
   "metadata": {},
   "source": [
    "## MP4 to MP3"
   ]
  },
  {
   "cell_type": "code",
   "execution_count": 2,
   "metadata": {},
   "outputs": [],
   "source": [
    "from moviepy.editor import VideoFileClip\n",
    "\n",
    "\n",
    "def get_audio_from_video(video_path, audio_path):\n",
    "    video = VideoFileClip(video_path)\n",
    "    audio = video.audio\n",
    "    audio.write_audiofile(audio_path)\n",
    "    video.close()\n",
    "    audio.close()"
   ]
  },
  {
   "cell_type": "code",
   "execution_count": 3,
   "metadata": {},
   "outputs": [],
   "source": [
    "import os\n",
    "\n",
    "\n",
    "def scan_file_path_in_folder(directory):\n",
    "    lst = []\n",
    "    for root, dirs, files in os.walk(directory):\n",
    "        # check files in the directory\n",
    "        for file in files:\n",
    "            lst.append(os.path.join(root, file))\n",
    "    return lst\n",
    "\n",
    "\n",
    "def scan_file_name_in_folder(directory):\n",
    "    lst = []\n",
    "    for root, dirs, files in os.walk(directory):\n",
    "        # check files in the directory\n",
    "        for file in files:\n",
    "            # remove the extension\n",
    "            file_name = os.path.splitext(file)[0]\n",
    "            lst.append(file_name)\n",
    "    return lst\n",
    "\n",
    "\n",
    "video_a = r\"Data\\\\rawData\\\\Video_a\""
   ]
  },
  {
   "cell_type": "code",
   "execution_count": 4,
   "metadata": {},
   "outputs": [],
   "source": [
    "# input_path = scan_file_path_in_folder(video_a)\n",
    "# output_path = scan_file_name_in_folder(video_a)\n",
    "\n",
    "# for i in range(len(input_path)):\n",
    "#     # check if mp3 file already exists then skip\n",
    "#     if os.path.exists(\"Data\\\\rawData\\\\Audio\\\\\" + output_path[i] + \".mp3\"):\n",
    "#         continue\n",
    "#     get_audio_from_video(\n",
    "#         input_path[i], \"Data\\\\rawData\\\\Audio\\\\\" + output_path[i] + \".mp3\"\n",
    "#     )"
   ]
  },
  {
   "cell_type": "code",
   "execution_count": 5,
   "metadata": {},
   "outputs": [
    {
     "name": "stderr",
     "output_type": "stream",
     "text": [
      "100%|██████████| 726/726 [00:00<00:00, 19511.77it/s]\n"
     ]
    }
   ],
   "source": [
    "import torch\n",
    "from transformers import pipeline\n",
    "\n",
    "\n",
    "# Initialize the pipeline and specify the device\n",
    "transcriber = pipeline(\n",
    "    \"automatic-speech-recognition\",\n",
    "    model=\"vinai/PhoWhisper-tiny\",\n",
    "    device=0 if torch.cuda.is_available() else -1,\n",
    ")\n",
    "\n",
    "input_path = scan_file_path_in_folder(\"Data\\\\rawData\\\\Audio\")\n",
    "output_path = scan_file_name_in_folder(video_a)\n",
    "\n",
    "for i in tqdm(range(len(input_path))):\n",
    "    # check if txt file already exists then skip\n",
    "    if os.path.exists(\"Data\\\\rawData\\\\Audio_text\\\\\" + output_path[i] + \".txt\"):\n",
    "        continue\n",
    "    # no grad\n",
    "    with torch.no_grad():\n",
    "        out = transcriber(input_path[i], return_timestamps=True)[\"text\"]\n",
    "    with open(\n",
    "        \"Data\\\\rawData\\\\Audio_text\\\\\" + output_path[i] + \".txt\", \"w\", encoding=\"utf-8\"\n",
    "    ) as f:\n",
    "        f.write(out)"
   ]
  }
 ],
 "metadata": {
  "kernelspec": {
   "display_name": "AiChallenge",
   "language": "python",
   "name": "python3"
  },
  "language_info": {
   "codemirror_mode": {
    "name": "ipython",
    "version": 3
   },
   "file_extension": ".py",
   "mimetype": "text/x-python",
   "name": "python",
   "nbconvert_exporter": "python",
   "pygments_lexer": "ipython3",
   "version": "3.11.9"
  }
 },
 "nbformat": 4,
 "nbformat_minor": 2
}

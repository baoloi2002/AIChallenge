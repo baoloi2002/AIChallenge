{
 "cells": [
  {
   "cell_type": "code",
   "execution_count": 1,
   "metadata": {},
   "outputs": [
    {
     "name": "stdout",
     "output_type": "stream",
     "text": [
      "Ultralytics YOLOv8.2.86  Python-3.11.9 torch-2.1.0+cu118 CUDA:0 (NVIDIA GeForce RTX 4090, 24564MiB)\n",
      "Setup complete  (32 CPUs, 63.8 GB RAM, 425.5/931.5 GB disk)\n"
     ]
    }
   ],
   "source": [
    "import ultralytics\n",
    "\n",
    "ultralytics.checks()"
   ]
  },
  {
   "cell_type": "code",
   "execution_count": 9,
   "metadata": {},
   "outputs": [],
   "source": [
    "object_list = {0: 'person', 1: 'bicycle', 2: 'car', 3: 'motorcycle', 4: 'airplane', 5: 'bus', 6: 'train', 7: 'truck', 8: 'boat', 9: 'traffic light', 10: 'fire hydrant', 11: 'stop sign', 12: 'parking meter', 13: 'bench', 14: 'bird', 15: 'cat', 16: 'dog', 17: 'horse', 18: 'sheep', 19: 'cow', 20: 'elephant', 21: 'bear', 22: 'zebra', 23: 'giraffe', 24: 'backpack', 25: 'umbrella', 26: 'handbag', 27: 'tie', 28: 'suitcase', 29: 'frisbee', 30: 'skis', 31: 'snowboard', 32: 'sports ball', 33: 'kite', 34: 'baseball bat', 35: 'baseball glove', 36: 'skateboard', 37: 'surfboard', 38: 'tennis racket', 39: 'bottle', 40: 'wine glass', 41: 'cup', 42: 'fork', 43: 'knife', 44: 'spoon', 45: 'bowl', 46: 'banana', 47: 'apple', 48: 'sandwich', 49: 'orange', 50: 'broccoli', 51: 'carrot', 52: 'hot dog', 53: 'pizza', 54: 'donut', 55: 'cake', 56: 'chair', 57: 'couch', 58: 'potted plant', 59: 'bed', 60: 'dining table', 61: 'toilet', 62: 'tv', 63: 'laptop', 64: 'mouse', 65: 'remote', 66: 'keyboard', 67: 'cell phone', 68: 'microwave', 69: 'oven', 70: 'toaster', 71: 'sink', 72: 'refrigerator', 73: 'book', 74: 'clock', 75: 'vase', 76: 'scissors', 77: 'teddy bear', 78: 'hair drier', 79: 'toothbrush'}\n",
    "\n",
    "# save the object list to a json file\n",
    "from json import dump\n",
    "with open('object_list.json', 'w') as f:\n",
    "    dump(object_list, f)"
   ]
  },
  {
   "cell_type": "code",
   "execution_count": 7,
   "metadata": {},
   "outputs": [
    {
     "name": "stdout",
     "output_type": "stream",
     "text": [
      "\n",
      "image 1/1 d:\\AIChallenge\\Keyframes\\Keyframes_L01\\keyframes\\L01_V001\\018.jpg: 384x640 1 car, 2 trucks, 10.5ms\n",
      "Speed: 1.0ms preprocess, 10.5ms inference, 1.5ms postprocess per image at shape (1, 3, 384, 640)\n",
      "[ultralytics.engine.results.Results object with attributes:\n",
      "\n",
      "boxes: ultralytics.engine.results.Boxes object\n",
      "keypoints: None\n",
      "masks: None\n",
      "names: {0: 'person', 1: 'bicycle', 2: 'car', 3: 'motorcycle', 4: 'airplane', 5: 'bus', 6: 'train', 7: 'truck', 8: 'boat', 9: 'traffic light', 10: 'fire hydrant', 11: 'stop sign', 12: 'parking meter', 13: 'bench', 14: 'bird', 15: 'cat', 16: 'dog', 17: 'horse', 18: 'sheep', 19: 'cow', 20: 'elephant', 21: 'bear', 22: 'zebra', 23: 'giraffe', 24: 'backpack', 25: 'umbrella', 26: 'handbag', 27: 'tie', 28: 'suitcase', 29: 'frisbee', 30: 'skis', 31: 'snowboard', 32: 'sports ball', 33: 'kite', 34: 'baseball bat', 35: 'baseball glove', 36: 'skateboard', 37: 'surfboard', 38: 'tennis racket', 39: 'bottle', 40: 'wine glass', 41: 'cup', 42: 'fork', 43: 'knife', 44: 'spoon', 45: 'bowl', 46: 'banana', 47: 'apple', 48: 'sandwich', 49: 'orange', 50: 'broccoli', 51: 'carrot', 52: 'hot dog', 53: 'pizza', 54: 'donut', 55: 'cake', 56: 'chair', 57: 'couch', 58: 'potted plant', 59: 'bed', 60: 'dining table', 61: 'toilet', 62: 'tv', 63: 'laptop', 64: 'mouse', 65: 'remote', 66: 'keyboard', 67: 'cell phone', 68: 'microwave', 69: 'oven', 70: 'toaster', 71: 'sink', 72: 'refrigerator', 73: 'book', 74: 'clock', 75: 'vase', 76: 'scissors', 77: 'teddy bear', 78: 'hair drier', 79: 'toothbrush'}\n",
      "obb: None\n",
      "orig_img: array([[[153, 160, 180],\n",
      "        [153, 160, 180],\n",
      "        [153, 160, 180],\n",
      "        ...,\n",
      "        [145, 150, 175],\n",
      "        [145, 150, 175],\n",
      "        [145, 150, 175]],\n",
      "\n",
      "       [[153, 160, 180],\n",
      "        [153, 160, 180],\n",
      "        [153, 160, 180],\n",
      "        ...,\n",
      "        [145, 150, 175],\n",
      "        [145, 150, 175],\n",
      "        [145, 150, 175]],\n",
      "\n",
      "       [[153, 160, 180],\n",
      "        [153, 160, 180],\n",
      "        [153, 160, 180],\n",
      "        ...,\n",
      "        [146, 151, 176],\n",
      "        [146, 151, 176],\n",
      "        [146, 151, 176]],\n",
      "\n",
      "       ...,\n",
      "\n",
      "       [[122, 143, 175],\n",
      "        [122, 143, 175],\n",
      "        [122, 143, 175],\n",
      "        ...,\n",
      "        [114, 132, 173],\n",
      "        [114, 132, 173],\n",
      "        [114, 132, 173]],\n",
      "\n",
      "       [[122, 143, 175],\n",
      "        [122, 143, 175],\n",
      "        [122, 143, 175],\n",
      "        ...,\n",
      "        [114, 132, 173],\n",
      "        [114, 132, 173],\n",
      "        [114, 132, 173]],\n",
      "\n",
      "       [[122, 143, 175],\n",
      "        [122, 143, 175],\n",
      "        [122, 143, 175],\n",
      "        ...,\n",
      "        [114, 132, 173],\n",
      "        [114, 132, 173],\n",
      "        [114, 132, 173]]], dtype=uint8)\n",
      "orig_shape: (720, 1280)\n",
      "path: 'd:\\\\AIChallenge\\\\Keyframes\\\\Keyframes_L01\\\\keyframes\\\\L01_V001\\\\018.jpg'\n",
      "probs: None\n",
      "save_dir: 'd:\\\\AIChallenge\\\\runs\\\\detect\\\\predict'\n",
      "speed: {'preprocess': 1.001119613647461, 'inference': 10.513782501220703, 'postprocess': 1.5022754669189453}]\n",
      "tensor([7., 7., 2.], device='cuda:0')\n"
     ]
    }
   ],
   "source": [
    "from ultralytics import YOLO\n",
    "\n",
    "# Load a model\n",
    "# model = YOLO(\"yolov8n.yaml\")  # build a new model from scratch\n",
    "model = YOLO(\"yolov8n.pt\")  # load a pretrained model (recommended for training)\n",
    "\n",
    "# Use the model\n",
    "# model.train(data=\"coco8.yaml\", epochs=3)  # train the model\n",
    "# metrics = model.val()  # evaluate model performance on the validation set\n",
    "results = model(\n",
    "    r\"Keyframes\\Keyframes_L01\\keyframes\\L01_V001\\018.jpg\"\n",
    ")  # predict on an image\n",
    "print(results)\n",
    "# Process results list\n",
    "for result in results:\n",
    "    boxes = result.boxes  # Boxes object for bounding box outputs\n",
    "    print(boxes.cls)"
   ]
  }
 ],
 "metadata": {
  "kernelspec": {
   "display_name": "venv",
   "language": "python",
   "name": "python3"
  },
  "language_info": {
   "codemirror_mode": {
    "name": "ipython",
    "version": 3
   },
   "file_extension": ".py",
   "mimetype": "text/x-python",
   "name": "python",
   "nbconvert_exporter": "python",
   "pygments_lexer": "ipython3",
   "version": "3.11.9"
  }
 },
 "nbformat": 4,
 "nbformat_minor": 2
}
